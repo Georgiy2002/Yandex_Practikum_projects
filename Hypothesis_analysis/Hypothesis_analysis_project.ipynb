{
 "cells": [
  {
   "cell_type": "markdown",
   "metadata": {},
   "source": [
    "# Проект по принятию решений в бизнесе"
   ]
  },
  {
   "cell_type": "markdown",
   "metadata": {},
   "source": [
    "# Введение"
   ]
  },
  {
   "cell_type": "markdown",
   "metadata": {},
   "source": [
    "<b> Название: </b> Приоритизация гипотез по увеличению выручки и проведение A/В тестов для выявления результатов нововведений.\n",
    "\n",
    "<b> Краткое описание: </b>  Вместе с отделом маркетинга подготовлен список гипотез для увеличения выручки.\n",
    "Необходимо приоритизировать гипотезы, запустить A/B-тест и проанализировать результаты. \n",
    "\n",
    "<b> Цели и задачи: </b> \n",
    "\n",
    " 1.Приоритизация задач\n",
    " \n",
    " 2.Анализ A/B-теста\n",
    "\n",
    "\n",
    "<b> Описание исходных данных:</b>  В распоряжении имеется три датасета.\n",
    "\n",
    "Файл /datasets/hypothesis.csv.:\n",
    "\n",
    "Структура датасета:\n",
    "\n",
    "    Hypothesis — краткое описание гипотезы;\n",
    "    Reach — охват пользователей по 10-балльной шкале;\n",
    "    Impact — влияние на пользователей по 10-балльной шкале;\n",
    "    Confidence — уверенность в гипотезе по 10-балльной шкале;\n",
    "    Efforts — затраты ресурсов на проверку гипотезы по 10-балльной шкале. Чем больше значение Efforts, тем дороже проверка гипотезы.\n",
    "\n",
    "Файл /datasets/orders.csv.\n",
    "\n",
    "Структура датасета:\n",
    "\n",
    "    transactionId — идентификатор заказа;\n",
    "    visitorId — идентификатор пользователя, совершившего заказ;\n",
    "    date — дата, когда был совершён заказ;\n",
    "    revenue — выручка заказа;\n",
    "    group — группа A/B-теста, в которую попал заказ.\n",
    "    \n",
    "Файл /datasets/visitors.csv. \n",
    "\n",
    "Структура датасета:\n",
    "\n",
    "    date — дата;\n",
    "    group — группа A/B-теста;\n",
    "    visitors — количество пользователей в указанную дату в указанной группе A/B-теста\n",
    "\n",
    "<b> План (декомпозиция) анализа данных: </b> \n",
    "    \n",
    "    Цель 1: Приоритизация задач\n",
    "    - Применим фреймворк ICE для приоритизации гипотез. Отсортируем их по убыванию приоритета.\n",
    "    - Применим фреймворк RICE для приоритизации гипотез. Отсортируем их по убыванию приоритета.\n",
    "    - Укажем, как изменилась приоритизация гипотез при применении RICE вместо ICE. Объясним причины.\n",
    "    Цель 2: Анализ A/B-теста\n",
    "    - Построим график кумулятивной выручки по группам. Сделаем выводы и предположения.\n",
    "    - Построим график кумулятивного среднего чека по группам. Сделаем выводы и предположения.\n",
    "    - Построим график относительного изменения кумулятивного среднего чека группы B к группе A. Сделаем выводы и предположения.\n",
    "    - Построим график кумулятивного среднего количества заказов на посетителя по группам. Сделаем выводы и предположения.\n",
    "    - Построим график относительного изменения кумулятивного среднего количества заказов на посетителя группы B к группе A. Сделаем выводы и предположения.\n",
    "    - Построим точечный график количества заказов по пользователям. Сделаем выводы и предположения.\n",
    "    - Посчитаем 95-й и 99-й перцентили количества заказов на пользователя. Выберем границу для определения аномальных пользователей.\n",
    "    - Построим точечный график стоимостей заказов. Сделаем выводы и предположения.\n",
    "    - Посчитаем 95-й и 99-й перцентили стоимости заказов. Выберем границу для определения аномальных заказов.\n",
    "    - Посчитаем статистическую значимость различий в среднем количестве заказов на посетителя между группами по «сырым» данным. Сделаем выводы и предположения.\n",
    "    - Посчитаем статистическую значимость различий в среднем чеке заказа между группами по «сырым» данным. Сделаем выводы и предположения.\n",
    "    - Посчитаем статистическую значимость различий в среднем количестве заказов на посетителя между группами по «очищенным» данным. Сделаем выводы и предположения.\n",
    "    - Посчитаем статистическую значимость различий в среднем чеке заказа между группами по «очищенным» данным. Сделаем выводы и предположения.\n",
    "    - Примим решение по результатам теста"
   ]
  },
  {
   "cell_type": "code",
   "execution_count": 340,
   "metadata": {},
   "outputs": [],
   "source": [
    "#импортируем необходимые библиотеки\n",
    "import pandas as pd\n",
    "import seaborn as sbn\n",
    "import matplotlib.pyplot as plt\n",
    "import numpy as np\n",
    "from scipy import stats as st"
   ]
  },
  {
   "cell_type": "code",
   "execution_count": 341,
   "metadata": {},
   "outputs": [],
   "source": [
    "#загружаем датасеты\n",
    "hypothesis=pd.read_csv('/datasets/hypothesis.csv')\n",
    "orders = pd.read_csv('/datasets/orders.csv')\n",
    "visits = pd.read_csv('/datasets/visitors.csv')"
   ]
  },
  {
   "cell_type": "code",
   "execution_count": 342,
   "metadata": {},
   "outputs": [
    {
     "name": "stdout",
     "output_type": "stream",
     "text": [
      "<class 'pandas.core.frame.DataFrame'>\n",
      "RangeIndex: 9 entries, 0 to 8\n",
      "Data columns (total 5 columns):\n",
      " #   Column      Non-Null Count  Dtype \n",
      "---  ------      --------------  ----- \n",
      " 0   Hypothesis  9 non-null      object\n",
      " 1   Reach       9 non-null      int64 \n",
      " 2   Impact      9 non-null      int64 \n",
      " 3   Confidence  9 non-null      int64 \n",
      " 4   Efforts     9 non-null      int64 \n",
      "dtypes: int64(4), object(1)\n",
      "memory usage: 488.0+ bytes\n"
     ]
    }
   ],
   "source": [
    "#предварительный просмотр датасетов\n",
    "hypothesis.info()"
   ]
  },
  {
   "cell_type": "code",
   "execution_count": 343,
   "metadata": {},
   "outputs": [
    {
     "name": "stdout",
     "output_type": "stream",
     "text": [
      "<class 'pandas.core.frame.DataFrame'>\n",
      "RangeIndex: 1197 entries, 0 to 1196\n",
      "Data columns (total 5 columns):\n",
      " #   Column         Non-Null Count  Dtype \n",
      "---  ------         --------------  ----- \n",
      " 0   transactionId  1197 non-null   int64 \n",
      " 1   visitorId      1197 non-null   int64 \n",
      " 2   date           1197 non-null   object\n",
      " 3   revenue        1197 non-null   int64 \n",
      " 4   group          1197 non-null   object\n",
      "dtypes: int64(3), object(2)\n",
      "memory usage: 46.9+ KB\n"
     ]
    }
   ],
   "source": [
    "orders.info()"
   ]
  },
  {
   "cell_type": "code",
   "execution_count": 344,
   "metadata": {},
   "outputs": [
    {
     "name": "stdout",
     "output_type": "stream",
     "text": [
      "<class 'pandas.core.frame.DataFrame'>\n",
      "RangeIndex: 62 entries, 0 to 61\n",
      "Data columns (total 3 columns):\n",
      " #   Column    Non-Null Count  Dtype \n",
      "---  ------    --------------  ----- \n",
      " 0   date      62 non-null     object\n",
      " 1   group     62 non-null     object\n",
      " 2   visitors  62 non-null     int64 \n",
      "dtypes: int64(1), object(2)\n",
      "memory usage: 1.6+ KB\n"
     ]
    }
   ],
   "source": [
    "visits.info()"
   ]
  },
  {
   "cell_type": "markdown",
   "metadata": {},
   "source": [
    "Пропусков нет!"
   ]
  },
  {
   "cell_type": "markdown",
   "metadata": {},
   "source": [
    "Однако для лучшей работы с датами нужно перевести столбцы date из типа object в datetime"
   ]
  },
  {
   "cell_type": "code",
   "execution_count": 345,
   "metadata": {},
   "outputs": [],
   "source": [
    "orders['date']=pd.to_datetime(orders['date'])"
   ]
  },
  {
   "cell_type": "code",
   "execution_count": 346,
   "metadata": {},
   "outputs": [],
   "source": [
    "visits['date']=pd.to_datetime(visits['date'])"
   ]
  },
  {
   "cell_type": "code",
   "execution_count": 347,
   "metadata": {},
   "outputs": [
    {
     "data": {
      "text/plain": [
       "0"
      ]
     },
     "execution_count": 347,
     "metadata": {},
     "output_type": "execute_result"
    }
   ],
   "source": [
    "#проверяем на дубликаты\n",
    "hypothesis.duplicated().sum()"
   ]
  },
  {
   "cell_type": "code",
   "execution_count": 348,
   "metadata": {},
   "outputs": [
    {
     "data": {
      "text/plain": [
       "0"
      ]
     },
     "execution_count": 348,
     "metadata": {},
     "output_type": "execute_result"
    }
   ],
   "source": [
    "visits.duplicated().sum()"
   ]
  },
  {
   "cell_type": "code",
   "execution_count": 349,
   "metadata": {},
   "outputs": [
    {
     "data": {
      "text/plain": [
       "0"
      ]
     },
     "execution_count": 349,
     "metadata": {},
     "output_type": "execute_result"
    }
   ],
   "source": [
    "orders.duplicated().sum()"
   ]
  },
  {
   "cell_type": "markdown",
   "metadata": {},
   "source": [
    "Дубликатов также не имеется"
   ]
  },
  {
   "cell_type": "code",
   "execution_count": 350,
   "metadata": {},
   "outputs": [],
   "source": [
    "#приводим заголовки колонок к нижнему змеиному регистру\n",
    "hypothesis.rename(columns = {'Hypothesis':'hypothesis', 'Reach':'reach', 'Impact':'impact', 'Confidence':'confidence', 'Efforts':'efforts'}, inplace = True )"
   ]
  },
  {
   "cell_type": "code",
   "execution_count": 351,
   "metadata": {},
   "outputs": [],
   "source": [
    "orders.rename(columns = {'transactionId':'transaction_id', 'visitorId':'visitor_id'}, inplace = True )"
   ]
  },
  {
   "cell_type": "markdown",
   "metadata": {},
   "source": [
    "Предобработка завершена!!!"
   ]
  },
  {
   "cell_type": "markdown",
   "metadata": {},
   "source": [
    "## Приоритизация гипотез"
   ]
  },
  {
   "cell_type": "markdown",
   "metadata": {},
   "source": [
    "### Приоритизация и сортировка гипотез согласно фреймворку ICE"
   ]
  },
  {
   "cell_type": "code",
   "execution_count": 352,
   "metadata": {},
   "outputs": [],
   "source": [
    "hypothesis['ice'] = (hypothesis['impact']*hypothesis['confidence'])/hypothesis['efforts']"
   ]
  },
  {
   "cell_type": "code",
   "execution_count": 353,
   "metadata": {},
   "outputs": [],
   "source": [
    "hypothesis = hypothesis.sort_values(by='ice', ascending=False)"
   ]
  },
  {
   "cell_type": "code",
   "execution_count": 354,
   "metadata": {},
   "outputs": [
    {
     "data": {
      "text/plain": [
       "array(['Запустить акцию, дающую скидку на товар в день рождения',\n",
       "       'Добавить два новых канала привлечения трафика, что позволит привлекать на 30% больше пользователей',\n",
       "       'Добавить форму подписки на все основные страницы, чтобы собрать базу клиентов для email-рассылок',\n",
       "       'Показать на главной странице баннеры с актуальными акциями и распродажами, чтобы увеличить конверсию',\n",
       "       'Добавить блоки рекомендаций товаров на сайт интернет магазина, чтобы повысить конверсию и средний чек заказа',\n",
       "       'Запустить собственную службу доставки, что сократит срок доставки заказов',\n",
       "       'Добавить страницу отзывов клиентов о магазине, что позволит увеличить количество заказов',\n",
       "       'Изменить структура категорий, что увеличит конверсию, т.к. пользователи быстрее найдут нужный товар',\n",
       "       'Изменить цвет фона главной страницы, чтобы увеличить вовлеченность пользователей'],\n",
       "      dtype=object)"
      ]
     },
     "execution_count": 354,
     "metadata": {},
     "output_type": "execute_result"
    }
   ],
   "source": [
    "hypothesis['hypothesis'].unique()"
   ]
  },
  {
   "cell_type": "code",
   "execution_count": 355,
   "metadata": {},
   "outputs": [],
   "source": [
    "hypothesis['ice']=round(hypothesis['ice'],2)"
   ]
  },
  {
   "cell_type": "code",
   "execution_count": 356,
   "metadata": {
    "scrolled": true
   },
   "outputs": [
    {
     "data": {
      "text/html": [
       "<div>\n",
       "<style scoped>\n",
       "    .dataframe tbody tr th:only-of-type {\n",
       "        vertical-align: middle;\n",
       "    }\n",
       "\n",
       "    .dataframe tbody tr th {\n",
       "        vertical-align: top;\n",
       "    }\n",
       "\n",
       "    .dataframe thead th {\n",
       "        text-align: right;\n",
       "    }\n",
       "</style>\n",
       "<table border=\"1\" class=\"dataframe\">\n",
       "  <thead>\n",
       "    <tr style=\"text-align: right;\">\n",
       "      <th></th>\n",
       "      <th>hypothesis</th>\n",
       "      <th>reach</th>\n",
       "      <th>impact</th>\n",
       "      <th>confidence</th>\n",
       "      <th>efforts</th>\n",
       "      <th>ice</th>\n",
       "    </tr>\n",
       "  </thead>\n",
       "  <tbody>\n",
       "    <tr>\n",
       "      <th>8</th>\n",
       "      <td>Запустить акцию, дающую скидку на товар в день...</td>\n",
       "      <td>1</td>\n",
       "      <td>9</td>\n",
       "      <td>9</td>\n",
       "      <td>5</td>\n",
       "      <td>16.20</td>\n",
       "    </tr>\n",
       "    <tr>\n",
       "      <th>0</th>\n",
       "      <td>Добавить два новых канала привлечения трафика,...</td>\n",
       "      <td>3</td>\n",
       "      <td>10</td>\n",
       "      <td>8</td>\n",
       "      <td>6</td>\n",
       "      <td>13.33</td>\n",
       "    </tr>\n",
       "    <tr>\n",
       "      <th>7</th>\n",
       "      <td>Добавить форму подписки на все основные страни...</td>\n",
       "      <td>10</td>\n",
       "      <td>7</td>\n",
       "      <td>8</td>\n",
       "      <td>5</td>\n",
       "      <td>11.20</td>\n",
       "    </tr>\n",
       "    <tr>\n",
       "      <th>6</th>\n",
       "      <td>Показать на главной странице баннеры с актуаль...</td>\n",
       "      <td>5</td>\n",
       "      <td>3</td>\n",
       "      <td>8</td>\n",
       "      <td>3</td>\n",
       "      <td>8.00</td>\n",
       "    </tr>\n",
       "    <tr>\n",
       "      <th>2</th>\n",
       "      <td>Добавить блоки рекомендаций товаров на сайт ин...</td>\n",
       "      <td>8</td>\n",
       "      <td>3</td>\n",
       "      <td>7</td>\n",
       "      <td>3</td>\n",
       "      <td>7.00</td>\n",
       "    </tr>\n",
       "    <tr>\n",
       "      <th>1</th>\n",
       "      <td>Запустить собственную службу доставки, что сок...</td>\n",
       "      <td>2</td>\n",
       "      <td>5</td>\n",
       "      <td>4</td>\n",
       "      <td>10</td>\n",
       "      <td>2.00</td>\n",
       "    </tr>\n",
       "    <tr>\n",
       "      <th>5</th>\n",
       "      <td>Добавить страницу отзывов клиентов о магазине,...</td>\n",
       "      <td>3</td>\n",
       "      <td>2</td>\n",
       "      <td>2</td>\n",
       "      <td>3</td>\n",
       "      <td>1.33</td>\n",
       "    </tr>\n",
       "    <tr>\n",
       "      <th>3</th>\n",
       "      <td>Изменить структура категорий, что увеличит кон...</td>\n",
       "      <td>8</td>\n",
       "      <td>3</td>\n",
       "      <td>3</td>\n",
       "      <td>8</td>\n",
       "      <td>1.12</td>\n",
       "    </tr>\n",
       "    <tr>\n",
       "      <th>4</th>\n",
       "      <td>Изменить цвет фона главной страницы, чтобы уве...</td>\n",
       "      <td>3</td>\n",
       "      <td>1</td>\n",
       "      <td>1</td>\n",
       "      <td>1</td>\n",
       "      <td>1.00</td>\n",
       "    </tr>\n",
       "  </tbody>\n",
       "</table>\n",
       "</div>"
      ],
      "text/plain": [
       "                                          hypothesis  reach  impact  \\\n",
       "8  Запустить акцию, дающую скидку на товар в день...      1       9   \n",
       "0  Добавить два новых канала привлечения трафика,...      3      10   \n",
       "7  Добавить форму подписки на все основные страни...     10       7   \n",
       "6  Показать на главной странице баннеры с актуаль...      5       3   \n",
       "2  Добавить блоки рекомендаций товаров на сайт ин...      8       3   \n",
       "1  Запустить собственную службу доставки, что сок...      2       5   \n",
       "5  Добавить страницу отзывов клиентов о магазине,...      3       2   \n",
       "3  Изменить структура категорий, что увеличит кон...      8       3   \n",
       "4  Изменить цвет фона главной страницы, чтобы уве...      3       1   \n",
       "\n",
       "   confidence  efforts    ice  \n",
       "8           9        5  16.20  \n",
       "0           8        6  13.33  \n",
       "7           8        5  11.20  \n",
       "6           8        3   8.00  \n",
       "2           7        3   7.00  \n",
       "1           4       10   2.00  \n",
       "5           2        3   1.33  \n",
       "3           3        8   1.12  \n",
       "4           1        1   1.00  "
      ]
     },
     "execution_count": 356,
     "metadata": {},
     "output_type": "execute_result"
    }
   ],
   "source": [
    "#отсортированная по фреймворку ICE таблица гипотез\n",
    "hypothesis"
   ]
  },
  {
   "cell_type": "markdown",
   "metadata": {},
   "source": [
    "###  Приоритизация и сортировка гипотез согласно фреймворку RICE"
   ]
  },
  {
   "cell_type": "code",
   "execution_count": 357,
   "metadata": {},
   "outputs": [],
   "source": [
    "hypothesis['rice'] = hypothesis['reach']*hypothesis['impact']*hypothesis['confidence']/hypothesis['efforts']"
   ]
  },
  {
   "cell_type": "code",
   "execution_count": 358,
   "metadata": {},
   "outputs": [],
   "source": [
    "hypothesis=hypothesis.sort_values(by='rice', ascending=False)"
   ]
  },
  {
   "cell_type": "code",
   "execution_count": 359,
   "metadata": {},
   "outputs": [
    {
     "data": {
      "text/html": [
       "<div>\n",
       "<style scoped>\n",
       "    .dataframe tbody tr th:only-of-type {\n",
       "        vertical-align: middle;\n",
       "    }\n",
       "\n",
       "    .dataframe tbody tr th {\n",
       "        vertical-align: top;\n",
       "    }\n",
       "\n",
       "    .dataframe thead th {\n",
       "        text-align: right;\n",
       "    }\n",
       "</style>\n",
       "<table border=\"1\" class=\"dataframe\">\n",
       "  <thead>\n",
       "    <tr style=\"text-align: right;\">\n",
       "      <th></th>\n",
       "      <th>hypothesis</th>\n",
       "      <th>reach</th>\n",
       "      <th>impact</th>\n",
       "      <th>confidence</th>\n",
       "      <th>efforts</th>\n",
       "      <th>ice</th>\n",
       "      <th>rice</th>\n",
       "    </tr>\n",
       "  </thead>\n",
       "  <tbody>\n",
       "    <tr>\n",
       "      <th>7</th>\n",
       "      <td>Добавить форму подписки на все основные страни...</td>\n",
       "      <td>10</td>\n",
       "      <td>7</td>\n",
       "      <td>8</td>\n",
       "      <td>5</td>\n",
       "      <td>11.20</td>\n",
       "      <td>112.0</td>\n",
       "    </tr>\n",
       "    <tr>\n",
       "      <th>2</th>\n",
       "      <td>Добавить блоки рекомендаций товаров на сайт ин...</td>\n",
       "      <td>8</td>\n",
       "      <td>3</td>\n",
       "      <td>7</td>\n",
       "      <td>3</td>\n",
       "      <td>7.00</td>\n",
       "      <td>56.0</td>\n",
       "    </tr>\n",
       "    <tr>\n",
       "      <th>0</th>\n",
       "      <td>Добавить два новых канала привлечения трафика,...</td>\n",
       "      <td>3</td>\n",
       "      <td>10</td>\n",
       "      <td>8</td>\n",
       "      <td>6</td>\n",
       "      <td>13.33</td>\n",
       "      <td>40.0</td>\n",
       "    </tr>\n",
       "    <tr>\n",
       "      <th>6</th>\n",
       "      <td>Показать на главной странице баннеры с актуаль...</td>\n",
       "      <td>5</td>\n",
       "      <td>3</td>\n",
       "      <td>8</td>\n",
       "      <td>3</td>\n",
       "      <td>8.00</td>\n",
       "      <td>40.0</td>\n",
       "    </tr>\n",
       "    <tr>\n",
       "      <th>8</th>\n",
       "      <td>Запустить акцию, дающую скидку на товар в день...</td>\n",
       "      <td>1</td>\n",
       "      <td>9</td>\n",
       "      <td>9</td>\n",
       "      <td>5</td>\n",
       "      <td>16.20</td>\n",
       "      <td>16.2</td>\n",
       "    </tr>\n",
       "    <tr>\n",
       "      <th>3</th>\n",
       "      <td>Изменить структура категорий, что увеличит кон...</td>\n",
       "      <td>8</td>\n",
       "      <td>3</td>\n",
       "      <td>3</td>\n",
       "      <td>8</td>\n",
       "      <td>1.12</td>\n",
       "      <td>9.0</td>\n",
       "    </tr>\n",
       "    <tr>\n",
       "      <th>1</th>\n",
       "      <td>Запустить собственную службу доставки, что сок...</td>\n",
       "      <td>2</td>\n",
       "      <td>5</td>\n",
       "      <td>4</td>\n",
       "      <td>10</td>\n",
       "      <td>2.00</td>\n",
       "      <td>4.0</td>\n",
       "    </tr>\n",
       "    <tr>\n",
       "      <th>5</th>\n",
       "      <td>Добавить страницу отзывов клиентов о магазине,...</td>\n",
       "      <td>3</td>\n",
       "      <td>2</td>\n",
       "      <td>2</td>\n",
       "      <td>3</td>\n",
       "      <td>1.33</td>\n",
       "      <td>4.0</td>\n",
       "    </tr>\n",
       "    <tr>\n",
       "      <th>4</th>\n",
       "      <td>Изменить цвет фона главной страницы, чтобы уве...</td>\n",
       "      <td>3</td>\n",
       "      <td>1</td>\n",
       "      <td>1</td>\n",
       "      <td>1</td>\n",
       "      <td>1.00</td>\n",
       "      <td>3.0</td>\n",
       "    </tr>\n",
       "  </tbody>\n",
       "</table>\n",
       "</div>"
      ],
      "text/plain": [
       "                                          hypothesis  reach  impact  \\\n",
       "7  Добавить форму подписки на все основные страни...     10       7   \n",
       "2  Добавить блоки рекомендаций товаров на сайт ин...      8       3   \n",
       "0  Добавить два новых канала привлечения трафика,...      3      10   \n",
       "6  Показать на главной странице баннеры с актуаль...      5       3   \n",
       "8  Запустить акцию, дающую скидку на товар в день...      1       9   \n",
       "3  Изменить структура категорий, что увеличит кон...      8       3   \n",
       "1  Запустить собственную службу доставки, что сок...      2       5   \n",
       "5  Добавить страницу отзывов клиентов о магазине,...      3       2   \n",
       "4  Изменить цвет фона главной страницы, чтобы уве...      3       1   \n",
       "\n",
       "   confidence  efforts    ice   rice  \n",
       "7           8        5  11.20  112.0  \n",
       "2           7        3   7.00   56.0  \n",
       "0           8        6  13.33   40.0  \n",
       "6           8        3   8.00   40.0  \n",
       "8           9        5  16.20   16.2  \n",
       "3           3        8   1.12    9.0  \n",
       "1           4       10   2.00    4.0  \n",
       "5           2        3   1.33    4.0  \n",
       "4           1        1   1.00    3.0  "
      ]
     },
     "execution_count": 359,
     "metadata": {},
     "output_type": "execute_result"
    }
   ],
   "source": [
    "hypothesis.sort_values(by='rice', ascending=False)"
   ]
  },
  {
   "cell_type": "markdown",
   "metadata": {},
   "source": [
    "<b> Микровывод: </b> Порядок гипотез в таблице, отсортированной по rice заметно изменился. Несмотря на то что индекс RICE оперирует теми же переменными, что и индекс ICE, отличаясь лишь одной дополнительной - REACH, оба являются мультипликативными (построенными на операции умножения). Это значит: каждая новая переменная может кардинально изменить результат и порядок гипотез, что мы и наблюдаем в нашем примере: являясь первой по индексу ICE гипотеза 'Запустить акцию, дающую скидку на товар в день рождения' спустилась вниз из-за крайне низкого показателя REACH, а гипотеза \"Добавить форму подписки на все основные страницы, чтобы собрать базу клиентов для email-рассылок\"  благодаря заметному преимуществу в данном показателе поднялась."
   ]
  },
  {
   "cell_type": "markdown",
   "metadata": {},
   "source": [
    "## Анализ A/B-теста"
   ]
  },
  {
   "cell_type": "markdown",
   "metadata": {},
   "source": [
    "### Строим и анализируем график кумулятивной выручки по группам"
   ]
  },
  {
   "cell_type": "code",
   "execution_count": 360,
   "metadata": {},
   "outputs": [
    {
     "data": {
      "text/html": [
       "<div>\n",
       "<style scoped>\n",
       "    .dataframe tbody tr th:only-of-type {\n",
       "        vertical-align: middle;\n",
       "    }\n",
       "\n",
       "    .dataframe tbody tr th {\n",
       "        vertical-align: top;\n",
       "    }\n",
       "\n",
       "    .dataframe thead th {\n",
       "        text-align: right;\n",
       "    }\n",
       "</style>\n",
       "<table border=\"1\" class=\"dataframe\">\n",
       "  <thead>\n",
       "    <tr style=\"text-align: right;\">\n",
       "      <th></th>\n",
       "      <th>transaction_id</th>\n",
       "      <th>visitor_id</th>\n",
       "      <th>date</th>\n",
       "      <th>revenue</th>\n",
       "      <th>group</th>\n",
       "    </tr>\n",
       "  </thead>\n",
       "  <tbody>\n",
       "    <tr>\n",
       "      <th>0</th>\n",
       "      <td>3667963787</td>\n",
       "      <td>3312258926</td>\n",
       "      <td>2019-08-15</td>\n",
       "      <td>1650</td>\n",
       "      <td>B</td>\n",
       "    </tr>\n",
       "    <tr>\n",
       "      <th>1</th>\n",
       "      <td>2804400009</td>\n",
       "      <td>3642806036</td>\n",
       "      <td>2019-08-15</td>\n",
       "      <td>730</td>\n",
       "      <td>B</td>\n",
       "    </tr>\n",
       "    <tr>\n",
       "      <th>2</th>\n",
       "      <td>2961555356</td>\n",
       "      <td>4069496402</td>\n",
       "      <td>2019-08-15</td>\n",
       "      <td>400</td>\n",
       "      <td>A</td>\n",
       "    </tr>\n",
       "    <tr>\n",
       "      <th>3</th>\n",
       "      <td>3797467345</td>\n",
       "      <td>1196621759</td>\n",
       "      <td>2019-08-15</td>\n",
       "      <td>9759</td>\n",
       "      <td>B</td>\n",
       "    </tr>\n",
       "    <tr>\n",
       "      <th>4</th>\n",
       "      <td>2282983706</td>\n",
       "      <td>2322279887</td>\n",
       "      <td>2019-08-15</td>\n",
       "      <td>2308</td>\n",
       "      <td>B</td>\n",
       "    </tr>\n",
       "    <tr>\n",
       "      <th>...</th>\n",
       "      <td>...</td>\n",
       "      <td>...</td>\n",
       "      <td>...</td>\n",
       "      <td>...</td>\n",
       "      <td>...</td>\n",
       "    </tr>\n",
       "    <tr>\n",
       "      <th>1192</th>\n",
       "      <td>2662137336</td>\n",
       "      <td>3733762160</td>\n",
       "      <td>2019-08-14</td>\n",
       "      <td>6490</td>\n",
       "      <td>B</td>\n",
       "    </tr>\n",
       "    <tr>\n",
       "      <th>1193</th>\n",
       "      <td>2203539145</td>\n",
       "      <td>370388673</td>\n",
       "      <td>2019-08-14</td>\n",
       "      <td>3190</td>\n",
       "      <td>A</td>\n",
       "    </tr>\n",
       "    <tr>\n",
       "      <th>1194</th>\n",
       "      <td>1807773912</td>\n",
       "      <td>573423106</td>\n",
       "      <td>2019-08-14</td>\n",
       "      <td>10550</td>\n",
       "      <td>A</td>\n",
       "    </tr>\n",
       "    <tr>\n",
       "      <th>1195</th>\n",
       "      <td>1947021204</td>\n",
       "      <td>1614305549</td>\n",
       "      <td>2019-08-14</td>\n",
       "      <td>100</td>\n",
       "      <td>A</td>\n",
       "    </tr>\n",
       "    <tr>\n",
       "      <th>1196</th>\n",
       "      <td>3936777065</td>\n",
       "      <td>2108080724</td>\n",
       "      <td>2019-08-15</td>\n",
       "      <td>202740</td>\n",
       "      <td>B</td>\n",
       "    </tr>\n",
       "  </tbody>\n",
       "</table>\n",
       "<p>1197 rows × 5 columns</p>\n",
       "</div>"
      ],
      "text/plain": [
       "      transaction_id  visitor_id       date  revenue group\n",
       "0         3667963787  3312258926 2019-08-15     1650     B\n",
       "1         2804400009  3642806036 2019-08-15      730     B\n",
       "2         2961555356  4069496402 2019-08-15      400     A\n",
       "3         3797467345  1196621759 2019-08-15     9759     B\n",
       "4         2282983706  2322279887 2019-08-15     2308     B\n",
       "...              ...         ...        ...      ...   ...\n",
       "1192      2662137336  3733762160 2019-08-14     6490     B\n",
       "1193      2203539145   370388673 2019-08-14     3190     A\n",
       "1194      1807773912   573423106 2019-08-14    10550     A\n",
       "1195      1947021204  1614305549 2019-08-14      100     A\n",
       "1196      3936777065  2108080724 2019-08-15   202740     B\n",
       "\n",
       "[1197 rows x 5 columns]"
      ]
     },
     "execution_count": 360,
     "metadata": {},
     "output_type": "execute_result"
    }
   ],
   "source": [
    "orders"
   ]
  },
  {
   "cell_type": "code",
   "execution_count": 361,
   "metadata": {},
   "outputs": [],
   "source": [
    "#Создадим массив уникальных пар значений дат и групп теста методом drop_duplicates\n",
    "datesGroups = orders[['date','group']].drop_duplicates() "
   ]
  },
  {
   "cell_type": "code",
   "execution_count": 362,
   "metadata": {},
   "outputs": [],
   "source": [
    "#Соберём агрегированные кумулятивные по дням данные о заказах\n",
    "ordersAggregated = datesGroups.apply(lambda x: orders[np.logical_and(orders['date'] <= x['date'], orders['group'] == x['group'])]\\\n",
    ".agg({'date' : 'max', 'group' : 'max', 'transaction_id' : 'nunique', 'visitor_id' : 'nunique', 'revenue' : 'sum'}), axis=1).sort_values(by=['date','group']) "
   ]
  },
  {
   "cell_type": "code",
   "execution_count": 363,
   "metadata": {},
   "outputs": [],
   "source": [
    "ordersAggregated.rename(columns = {'transaction_id':'count_transactions', 'visitor_id':'count_buyers'}, inplace=True)"
   ]
  },
  {
   "cell_type": "code",
   "execution_count": 364,
   "metadata": {},
   "outputs": [
    {
     "data": {
      "text/html": [
       "<div>\n",
       "<style scoped>\n",
       "    .dataframe tbody tr th:only-of-type {\n",
       "        vertical-align: middle;\n",
       "    }\n",
       "\n",
       "    .dataframe tbody tr th {\n",
       "        vertical-align: top;\n",
       "    }\n",
       "\n",
       "    .dataframe thead th {\n",
       "        text-align: right;\n",
       "    }\n",
       "</style>\n",
       "<table border=\"1\" class=\"dataframe\">\n",
       "  <thead>\n",
       "    <tr style=\"text-align: right;\">\n",
       "      <th></th>\n",
       "      <th>date</th>\n",
       "      <th>group</th>\n",
       "      <th>visitors</th>\n",
       "    </tr>\n",
       "  </thead>\n",
       "  <tbody>\n",
       "    <tr>\n",
       "      <th>0</th>\n",
       "      <td>2019-08-01</td>\n",
       "      <td>A</td>\n",
       "      <td>719</td>\n",
       "    </tr>\n",
       "    <tr>\n",
       "      <th>1</th>\n",
       "      <td>2019-08-02</td>\n",
       "      <td>A</td>\n",
       "      <td>619</td>\n",
       "    </tr>\n",
       "    <tr>\n",
       "      <th>2</th>\n",
       "      <td>2019-08-03</td>\n",
       "      <td>A</td>\n",
       "      <td>507</td>\n",
       "    </tr>\n",
       "    <tr>\n",
       "      <th>3</th>\n",
       "      <td>2019-08-04</td>\n",
       "      <td>A</td>\n",
       "      <td>717</td>\n",
       "    </tr>\n",
       "    <tr>\n",
       "      <th>4</th>\n",
       "      <td>2019-08-05</td>\n",
       "      <td>A</td>\n",
       "      <td>756</td>\n",
       "    </tr>\n",
       "    <tr>\n",
       "      <th>...</th>\n",
       "      <td>...</td>\n",
       "      <td>...</td>\n",
       "      <td>...</td>\n",
       "    </tr>\n",
       "    <tr>\n",
       "      <th>57</th>\n",
       "      <td>2019-08-27</td>\n",
       "      <td>B</td>\n",
       "      <td>720</td>\n",
       "    </tr>\n",
       "    <tr>\n",
       "      <th>58</th>\n",
       "      <td>2019-08-28</td>\n",
       "      <td>B</td>\n",
       "      <td>654</td>\n",
       "    </tr>\n",
       "    <tr>\n",
       "      <th>59</th>\n",
       "      <td>2019-08-29</td>\n",
       "      <td>B</td>\n",
       "      <td>531</td>\n",
       "    </tr>\n",
       "    <tr>\n",
       "      <th>60</th>\n",
       "      <td>2019-08-30</td>\n",
       "      <td>B</td>\n",
       "      <td>490</td>\n",
       "    </tr>\n",
       "    <tr>\n",
       "      <th>61</th>\n",
       "      <td>2019-08-31</td>\n",
       "      <td>B</td>\n",
       "      <td>718</td>\n",
       "    </tr>\n",
       "  </tbody>\n",
       "</table>\n",
       "<p>62 rows × 3 columns</p>\n",
       "</div>"
      ],
      "text/plain": [
       "         date group  visitors\n",
       "0  2019-08-01     A       719\n",
       "1  2019-08-02     A       619\n",
       "2  2019-08-03     A       507\n",
       "3  2019-08-04     A       717\n",
       "4  2019-08-05     A       756\n",
       "..        ...   ...       ...\n",
       "57 2019-08-27     B       720\n",
       "58 2019-08-28     B       654\n",
       "59 2019-08-29     B       531\n",
       "60 2019-08-30     B       490\n",
       "61 2019-08-31     B       718\n",
       "\n",
       "[62 rows x 3 columns]"
      ]
     },
     "execution_count": 364,
     "metadata": {},
     "output_type": "execute_result"
    }
   ],
   "source": [
    "visits"
   ]
  },
  {
   "cell_type": "code",
   "execution_count": 365,
   "metadata": {},
   "outputs": [],
   "source": [
    "# Соберем агрегированные кумулятивные по дням данные о посетителях интернет-магазина аналогичным способом\n",
    "visitorsAggregated = datesGroups.apply(lambda x: visits[np.logical_and(visits['date'] <= x['date'], \\\n",
    "    visits['group'] == x['group'])].agg({'date' : 'max', 'group' : 'max', 'visitors' : 'sum'}),\\\n",
    "                                       axis=1).sort_values(by=['date','group']) "
   ]
  },
  {
   "cell_type": "code",
   "execution_count": 366,
   "metadata": {},
   "outputs": [
    {
     "data": {
      "text/html": [
       "<div>\n",
       "<style scoped>\n",
       "    .dataframe tbody tr th:only-of-type {\n",
       "        vertical-align: middle;\n",
       "    }\n",
       "\n",
       "    .dataframe tbody tr th {\n",
       "        vertical-align: top;\n",
       "    }\n",
       "\n",
       "    .dataframe thead th {\n",
       "        text-align: right;\n",
       "    }\n",
       "</style>\n",
       "<table border=\"1\" class=\"dataframe\">\n",
       "  <thead>\n",
       "    <tr style=\"text-align: right;\">\n",
       "      <th></th>\n",
       "      <th>date</th>\n",
       "      <th>group</th>\n",
       "      <th>visitors</th>\n",
       "    </tr>\n",
       "  </thead>\n",
       "  <tbody>\n",
       "    <tr>\n",
       "      <th>55</th>\n",
       "      <td>2019-08-01</td>\n",
       "      <td>A</td>\n",
       "      <td>719</td>\n",
       "    </tr>\n",
       "    <tr>\n",
       "      <th>66</th>\n",
       "      <td>2019-08-01</td>\n",
       "      <td>B</td>\n",
       "      <td>713</td>\n",
       "    </tr>\n",
       "    <tr>\n",
       "      <th>175</th>\n",
       "      <td>2019-08-02</td>\n",
       "      <td>A</td>\n",
       "      <td>1338</td>\n",
       "    </tr>\n",
       "    <tr>\n",
       "      <th>173</th>\n",
       "      <td>2019-08-02</td>\n",
       "      <td>B</td>\n",
       "      <td>1294</td>\n",
       "    </tr>\n",
       "    <tr>\n",
       "      <th>291</th>\n",
       "      <td>2019-08-03</td>\n",
       "      <td>A</td>\n",
       "      <td>1845</td>\n",
       "    </tr>\n",
       "    <tr>\n",
       "      <th>...</th>\n",
       "      <td>...</td>\n",
       "      <td>...</td>\n",
       "      <td>...</td>\n",
       "    </tr>\n",
       "    <tr>\n",
       "      <th>496</th>\n",
       "      <td>2019-08-29</td>\n",
       "      <td>B</td>\n",
       "      <td>17708</td>\n",
       "    </tr>\n",
       "    <tr>\n",
       "      <th>730</th>\n",
       "      <td>2019-08-30</td>\n",
       "      <td>A</td>\n",
       "      <td>18037</td>\n",
       "    </tr>\n",
       "    <tr>\n",
       "      <th>690</th>\n",
       "      <td>2019-08-30</td>\n",
       "      <td>B</td>\n",
       "      <td>18198</td>\n",
       "    </tr>\n",
       "    <tr>\n",
       "      <th>958</th>\n",
       "      <td>2019-08-31</td>\n",
       "      <td>A</td>\n",
       "      <td>18736</td>\n",
       "    </tr>\n",
       "    <tr>\n",
       "      <th>930</th>\n",
       "      <td>2019-08-31</td>\n",
       "      <td>B</td>\n",
       "      <td>18916</td>\n",
       "    </tr>\n",
       "  </tbody>\n",
       "</table>\n",
       "<p>62 rows × 3 columns</p>\n",
       "</div>"
      ],
      "text/plain": [
       "          date group  visitors\n",
       "55  2019-08-01     A       719\n",
       "66  2019-08-01     B       713\n",
       "175 2019-08-02     A      1338\n",
       "173 2019-08-02     B      1294\n",
       "291 2019-08-03     A      1845\n",
       "..         ...   ...       ...\n",
       "496 2019-08-29     B     17708\n",
       "730 2019-08-30     A     18037\n",
       "690 2019-08-30     B     18198\n",
       "958 2019-08-31     A     18736\n",
       "930 2019-08-31     B     18916\n",
       "\n",
       "[62 rows x 3 columns]"
      ]
     },
     "execution_count": 366,
     "metadata": {},
     "output_type": "execute_result"
    }
   ],
   "source": [
    "visitorsAggregated"
   ]
  },
  {
   "cell_type": "code",
   "execution_count": 367,
   "metadata": {},
   "outputs": [
    {
     "data": {
      "text/plain": [
       "89"
      ]
     },
     "execution_count": 367,
     "metadata": {},
     "output_type": "execute_result"
    }
   ],
   "source": [
    "# проверяем сколько посетителей из группы А также попадают в группу B\n",
    "orders[orders['group']=='A']['visitor_id'].isin(orders[orders['group']=='B']['visitor_id']).sum()"
   ]
  },
  {
   "cell_type": "code",
   "execution_count": 368,
   "metadata": {
    "scrolled": false
   },
   "outputs": [
    {
     "data": {
      "text/plain": [
       "92"
      ]
     },
     "execution_count": 368,
     "metadata": {},
     "output_type": "execute_result"
    }
   ],
   "source": [
    "# проверяем сколько посетителей из группы B также попадают в группу A\n",
    "orders[orders['group']=='B']['visitor_id'].isin(orders[orders['group']=='A']['visitor_id']).sum()"
   ]
  },
  {
   "cell_type": "markdown",
   "metadata": {},
   "source": [
    "В группе B больше совпадений чем в группе A так как в группе B есть пользователи, которые несколько раз попали в группу B и один или несколько раз в группу A, соответсвенно True в группе B больше."
   ]
  },
  {
   "cell_type": "markdown",
   "metadata": {},
   "source": [
    "В итоге, мы понимаем, что некоторые пользователи попали в трафик группы A и в трафик группы B при проведение A/B теста. Однако не вижу здесь проблемы, так как покупки они каждый раз совершали разные."
   ]
  },
  {
   "cell_type": "code",
   "execution_count": 369,
   "metadata": {},
   "outputs": [],
   "source": [
    "# объединяем кумулятивные данные в одной таблице\n",
    "cumulativeData = ordersAggregated.merge(visitorsAggregated, left_on=['date', 'group'], right_on=['date', 'group'])"
   ]
  },
  {
   "cell_type": "code",
   "execution_count": 370,
   "metadata": {},
   "outputs": [
    {
     "data": {
      "text/html": [
       "<div>\n",
       "<style scoped>\n",
       "    .dataframe tbody tr th:only-of-type {\n",
       "        vertical-align: middle;\n",
       "    }\n",
       "\n",
       "    .dataframe tbody tr th {\n",
       "        vertical-align: top;\n",
       "    }\n",
       "\n",
       "    .dataframe thead th {\n",
       "        text-align: right;\n",
       "    }\n",
       "</style>\n",
       "<table border=\"1\" class=\"dataframe\">\n",
       "  <thead>\n",
       "    <tr style=\"text-align: right;\">\n",
       "      <th></th>\n",
       "      <th>date</th>\n",
       "      <th>group</th>\n",
       "      <th>count_transactions</th>\n",
       "      <th>count_buyers</th>\n",
       "      <th>revenue</th>\n",
       "      <th>visitors</th>\n",
       "    </tr>\n",
       "  </thead>\n",
       "  <tbody>\n",
       "    <tr>\n",
       "      <th>0</th>\n",
       "      <td>2019-08-01</td>\n",
       "      <td>A</td>\n",
       "      <td>24</td>\n",
       "      <td>20</td>\n",
       "      <td>148579</td>\n",
       "      <td>719</td>\n",
       "    </tr>\n",
       "    <tr>\n",
       "      <th>1</th>\n",
       "      <td>2019-08-01</td>\n",
       "      <td>B</td>\n",
       "      <td>21</td>\n",
       "      <td>20</td>\n",
       "      <td>101217</td>\n",
       "      <td>713</td>\n",
       "    </tr>\n",
       "    <tr>\n",
       "      <th>2</th>\n",
       "      <td>2019-08-02</td>\n",
       "      <td>A</td>\n",
       "      <td>44</td>\n",
       "      <td>38</td>\n",
       "      <td>242401</td>\n",
       "      <td>1338</td>\n",
       "    </tr>\n",
       "    <tr>\n",
       "      <th>3</th>\n",
       "      <td>2019-08-02</td>\n",
       "      <td>B</td>\n",
       "      <td>45</td>\n",
       "      <td>43</td>\n",
       "      <td>266748</td>\n",
       "      <td>1294</td>\n",
       "    </tr>\n",
       "    <tr>\n",
       "      <th>4</th>\n",
       "      <td>2019-08-03</td>\n",
       "      <td>A</td>\n",
       "      <td>68</td>\n",
       "      <td>62</td>\n",
       "      <td>354874</td>\n",
       "      <td>1845</td>\n",
       "    </tr>\n",
       "  </tbody>\n",
       "</table>\n",
       "</div>"
      ],
      "text/plain": [
       "        date group  count_transactions  count_buyers  revenue  visitors\n",
       "0 2019-08-01     A                  24            20   148579       719\n",
       "1 2019-08-01     B                  21            20   101217       713\n",
       "2 2019-08-02     A                  44            38   242401      1338\n",
       "3 2019-08-02     B                  45            43   266748      1294\n",
       "4 2019-08-03     A                  68            62   354874      1845"
      ]
     },
     "execution_count": 370,
     "metadata": {},
     "output_type": "execute_result"
    }
   ],
   "source": [
    "cumulativeData.head(5)"
   ]
  },
  {
   "cell_type": "code",
   "execution_count": 371,
   "metadata": {},
   "outputs": [
    {
     "data": {
      "image/png": "[encoded data removed]",
      "text/plain": [
       "<Figure size 864x360 with 1 Axes>"
      ]
     },
     "metadata": {
      "needs_background": "light"
     },
     "output_type": "display_data"
    }
   ],
   "source": [
    "# датафрейм с кумулятивным количеством заказов и кумулятивной выручкой по дням в группе А\n",
    "cumulativeRevenueA = cumulativeData[cumulativeData['group']=='A'][['date','revenue', 'count_transactions']]\n",
    "\n",
    "# датафрейм с кумулятивным количеством заказов и кумулятивной выручкой по дням в группе B\n",
    "cumulativeRevenueB = cumulativeData[cumulativeData['group']=='B'][['date','revenue', 'count_transactions']]\n",
    "plt.figure(figsize=(12, 5))\n",
    "# Строим график выручки группы A\n",
    "plt.plot(cumulativeRevenueA['date'], cumulativeRevenueA['revenue'], label='A');\n",
    "\n",
    "# Строим график выручки группы B\n",
    "plt.plot(cumulativeRevenueB['date'], cumulativeRevenueB['revenue'], label='B');\n",
    "plt.grid()\n",
    "plt.xlabel('дата')\n",
    "plt.ylabel('Выручка (1=1 милл. рублей)')\n",
    "plt.title('График кумулятивной выручки по группам')\n",
    "plt.legend();\n",
    "plt.show()"
   ]
  },
  {
   "cell_type": "markdown",
   "metadata": {},
   "source": [
    "<b> Микровывод: </b> Выручка почти равномерно увеличивается в течение всего теста.\n",
    "Однако график выручки группы B после 17 августа резко скакнул. Это может свидетельствовать о всплеске числа заказов, либо о появлении очень дорогих заказов в выборке, либо об ином изменение, но после данного всплеска график рос в своем естественном темпе. График A стабильно рос все время без всплесков и к 1 сентября объем накопленной выручки серьезно уступал группе B."
   ]
  },
  {
   "cell_type": "markdown",
   "metadata": {},
   "source": [
    "### Строим и анализируем график кумулятивного среднего чека по группам"
   ]
  },
  {
   "cell_type": "code",
   "execution_count": 372,
   "metadata": {},
   "outputs": [
    {
     "data": {
      "image/png": "[encoded data removed]",
      "text/plain": [
       "<Figure size 864x360 with 1 Axes>"
      ]
     },
     "metadata": {
      "needs_background": "light"
     },
     "output_type": "display_data"
    }
   ],
   "source": [
    "plt.figure(figsize=(12, 5))\n",
    "plt.plot(cumulativeRevenueA['date'], cumulativeRevenueA['revenue']/cumulativeRevenueA['count_transactions'], label='A');\n",
    "plt.plot(cumulativeRevenueB['date'], cumulativeRevenueB['revenue']/cumulativeRevenueB['count_transactions'], label='B');\n",
    "plt.grid()\n",
    "plt.title('График кумулятивного среднего чека по группам');\n",
    "plt.xlabel('дата')\n",
    "plt.ylabel('Средний чек')\n",
    "plt.legend();"
   ]
  },
  {
   "cell_type": "markdown",
   "metadata": {},
   "source": [
    "<b>Микровывод: </b>График свидетельствует о долгой стабилизации среднего чека - полмесяца. Ближе к концу график отличается большей равномерностью. На данном графике также мы можем наблюдать скачок среднего чека группы B после 17 августа, что свидетельсвует о наличие очень дорогих заказов, а не их большом количестве (как мы могли предположить после предыдушего графика). После 17ого средний чек группы B достигает 10000, позже постеенно снижаясь до 9100, что говорит о постепенном растворение эффекта дорогих покупок после 17ого. Исходя из этого, можно предположить что средний чек группы B в дальнейшем будет снижаться. Быстрый равномерный рост наблюдается и у группы A с 6 августа по 13 августа, который после нейтрализуется. Предположу, что данный рост можно вполне списать на попадание дорогих заказов в первую половину теста в группу A, а не на какие-то реальный процессы. Подводя промежуточный итог, надо сказать, что тест рано останавливать так как несмотря на огромное преимущество группы B, мы не знаем насколько оно обязано тем аномально дорогим заказам после 17ого и какой реальный чек будет после нейтрализации данного эффекта, потому что до него группа A и B шли без большого разрыва. В конце графика можно заметить постепенное сближение двух линий, что также свидетельствует о необходимости продолжить тест. Важно, нарисовать еще ряд графиков и провести тест Манна-Уитни для окончатеьного вердикта."
   ]
  },
  {
   "cell_type": "markdown",
   "metadata": {},
   "source": [
    "### Строим и анализируем график относительного изменения кумулятивного среднего чека группы B к группе A."
   ]
  },
  {
   "cell_type": "code",
   "execution_count": 373,
   "metadata": {},
   "outputs": [
    {
     "data": {
      "image/png": "[encoded data removed]",
      "text/plain": [
       "<Figure size 864x360 with 1 Axes>"
      ]
     },
     "metadata": {
      "needs_background": "light"
     },
     "output_type": "display_data"
    }
   ],
   "source": [
    "# собираем данные в одном датафрейме\n",
    "mergedCumulativeRevenue = cumulativeRevenueA.merge(cumulativeRevenueB, left_on='date', right_on='date', how='left', suffixes=['A', 'B'])\n",
    "\n",
    "plt.figure(figsize=(12, 5))\n",
    "# cтроим отношение средних чеков\n",
    "plt.plot(mergedCumulativeRevenue['date'], (mergedCumulativeRevenue['revenueB']/mergedCumulativeRevenue['count_transactionsB'])/(mergedCumulativeRevenue['revenueA']/mergedCumulativeRevenue['count_transactionsA'])-1)\n",
    "\n",
    "# добавляем ось X\n",
    "plt.axhline(y=0, color='black', linestyle='--') \n",
    "plt.title('График относительного изменения кумулятивного среднего чека группы B к группе A');\n",
    "plt.xlabel('дата');\n",
    "plt.ylabel('Cтепень изменения');"
   ]
  },
  {
   "cell_type": "markdown",
   "metadata": {},
   "source": [
    "<b>Микровывод: </b> Данный график лишь подтверждает предположения, сделанные на основе предыдущего. Эффект дорогих заказов после 17 серьезно поднимает средние чеки и относительная разница становится огромной. Но уже к началу сентября средний чек B опережает A лишь на 0.3, что говорит о стремление графика B к своему естественному состоянию, которое, скорее всего, не сильно отличается от графика A, так как до 17 августа график B даже где-то устпал графику A, однако делать серьезные выводы на основе первой половины графика опасно в силу малой величины выборки и нестаблиности графиков."
   ]
  },
  {
   "cell_type": "markdown",
   "metadata": {},
   "source": [
    "### Строим и анализируем график кумулятивного среднего количества заказов на посетителя по группам"
   ]
  },
  {
   "cell_type": "code",
   "execution_count": 374,
   "metadata": {},
   "outputs": [
    {
     "data": {
      "text/html": [
       "<div>\n",
       "<style scoped>\n",
       "    .dataframe tbody tr th:only-of-type {\n",
       "        vertical-align: middle;\n",
       "    }\n",
       "\n",
       "    .dataframe tbody tr th {\n",
       "        vertical-align: top;\n",
       "    }\n",
       "\n",
       "    .dataframe thead th {\n",
       "        text-align: right;\n",
       "    }\n",
       "</style>\n",
       "<table border=\"1\" class=\"dataframe\">\n",
       "  <thead>\n",
       "    <tr style=\"text-align: right;\">\n",
       "      <th></th>\n",
       "      <th>date</th>\n",
       "      <th>group</th>\n",
       "      <th>count_transactions</th>\n",
       "      <th>count_buyers</th>\n",
       "      <th>revenue</th>\n",
       "      <th>visitors</th>\n",
       "    </tr>\n",
       "  </thead>\n",
       "  <tbody>\n",
       "    <tr>\n",
       "      <th>0</th>\n",
       "      <td>2019-08-01</td>\n",
       "      <td>A</td>\n",
       "      <td>24</td>\n",
       "      <td>20</td>\n",
       "      <td>148579</td>\n",
       "      <td>719</td>\n",
       "    </tr>\n",
       "    <tr>\n",
       "      <th>1</th>\n",
       "      <td>2019-08-01</td>\n",
       "      <td>B</td>\n",
       "      <td>21</td>\n",
       "      <td>20</td>\n",
       "      <td>101217</td>\n",
       "      <td>713</td>\n",
       "    </tr>\n",
       "    <tr>\n",
       "      <th>2</th>\n",
       "      <td>2019-08-02</td>\n",
       "      <td>A</td>\n",
       "      <td>44</td>\n",
       "      <td>38</td>\n",
       "      <td>242401</td>\n",
       "      <td>1338</td>\n",
       "    </tr>\n",
       "    <tr>\n",
       "      <th>3</th>\n",
       "      <td>2019-08-02</td>\n",
       "      <td>B</td>\n",
       "      <td>45</td>\n",
       "      <td>43</td>\n",
       "      <td>266748</td>\n",
       "      <td>1294</td>\n",
       "    </tr>\n",
       "    <tr>\n",
       "      <th>4</th>\n",
       "      <td>2019-08-03</td>\n",
       "      <td>A</td>\n",
       "      <td>68</td>\n",
       "      <td>62</td>\n",
       "      <td>354874</td>\n",
       "      <td>1845</td>\n",
       "    </tr>\n",
       "    <tr>\n",
       "      <th>...</th>\n",
       "      <td>...</td>\n",
       "      <td>...</td>\n",
       "      <td>...</td>\n",
       "      <td>...</td>\n",
       "      <td>...</td>\n",
       "      <td>...</td>\n",
       "    </tr>\n",
       "    <tr>\n",
       "      <th>57</th>\n",
       "      <td>2019-08-29</td>\n",
       "      <td>B</td>\n",
       "      <td>596</td>\n",
       "      <td>544</td>\n",
       "      <td>5559398</td>\n",
       "      <td>17708</td>\n",
       "    </tr>\n",
       "    <tr>\n",
       "      <th>58</th>\n",
       "      <td>2019-08-30</td>\n",
       "      <td>A</td>\n",
       "      <td>545</td>\n",
       "      <td>493</td>\n",
       "      <td>4022970</td>\n",
       "      <td>18037</td>\n",
       "    </tr>\n",
       "    <tr>\n",
       "      <th>59</th>\n",
       "      <td>2019-08-30</td>\n",
       "      <td>B</td>\n",
       "      <td>620</td>\n",
       "      <td>567</td>\n",
       "      <td>5774631</td>\n",
       "      <td>18198</td>\n",
       "    </tr>\n",
       "    <tr>\n",
       "      <th>60</th>\n",
       "      <td>2019-08-31</td>\n",
       "      <td>A</td>\n",
       "      <td>557</td>\n",
       "      <td>503</td>\n",
       "      <td>4084803</td>\n",
       "      <td>18736</td>\n",
       "    </tr>\n",
       "    <tr>\n",
       "      <th>61</th>\n",
       "      <td>2019-08-31</td>\n",
       "      <td>B</td>\n",
       "      <td>640</td>\n",
       "      <td>586</td>\n",
       "      <td>5907760</td>\n",
       "      <td>18916</td>\n",
       "    </tr>\n",
       "  </tbody>\n",
       "</table>\n",
       "<p>62 rows × 6 columns</p>\n",
       "</div>"
      ],
      "text/plain": [
       "         date group  count_transactions  count_buyers  revenue  visitors\n",
       "0  2019-08-01     A                  24            20   148579       719\n",
       "1  2019-08-01     B                  21            20   101217       713\n",
       "2  2019-08-02     A                  44            38   242401      1338\n",
       "3  2019-08-02     B                  45            43   266748      1294\n",
       "4  2019-08-03     A                  68            62   354874      1845\n",
       "..        ...   ...                 ...           ...      ...       ...\n",
       "57 2019-08-29     B                 596           544  5559398     17708\n",
       "58 2019-08-30     A                 545           493  4022970     18037\n",
       "59 2019-08-30     B                 620           567  5774631     18198\n",
       "60 2019-08-31     A                 557           503  4084803     18736\n",
       "61 2019-08-31     B                 640           586  5907760     18916\n",
       "\n",
       "[62 rows x 6 columns]"
      ]
     },
     "execution_count": 374,
     "metadata": {},
     "output_type": "execute_result"
    }
   ],
   "source": [
    "cumulativeData"
   ]
  },
  {
   "cell_type": "code",
   "execution_count": 375,
   "metadata": {},
   "outputs": [
    {
     "data": {
      "image/png": "[encoded data removed]",
      "text/plain": [
       "<Figure size 864x360 with 1 Axes>"
      ]
     },
     "metadata": {
      "needs_background": "light"
     },
     "output_type": "display_data"
    }
   ],
   "source": [
    "# датафрейм с кумулятивным количеством заказов и кумулятивным количеством посетителей по дням в группе А\n",
    "cumulativeVisitorsA = cumulativeData[cumulativeData['group']=='A'][['date','visitors', 'count_transactions']]\n",
    "\n",
    "# датафрейм с кумулятивным количеством заказов и кумулятивным количеством посетителей по дням в группе B\n",
    "cumulativeVisitorsB = cumulativeData[cumulativeData['group']=='B'][['date','visitors', 'count_transactions']]\n",
    "\n",
    "plt.figure(figsize=(12, 5))\n",
    "plt.plot(cumulativeVisitorsA['date'], cumulativeVisitorsA['count_transactions']/cumulativeVisitorsA['visitors'], label='A');\n",
    "plt.plot(cumulativeVisitorsB['date'], cumulativeVisitorsB['count_transactions']/cumulativeVisitorsB['visitors'], label='B');\n",
    "plt.grid()\n",
    "plt.title('График кумулятивного среднего количества заказов на посетителя по группам');\n",
    "plt.xlabel('дата')\n",
    "plt.ylabel('Соотношение заказов к кол-ву посетителей')\n",
    "plt.legend();"
   ]
  },
  {
   "cell_type": "markdown",
   "metadata": {},
   "source": [
    "<b>Микровывод: </b>  График группы B после стабилизации явно превосходит график A. Это свидетельствует о превосходящей конверсии группы B и ее качественном превосходстве. Также данный график не отражает эффект дорогих покупок после 17ого благодаря чему можно говорить об объективном превосходстве группы B. Посетители сайта из группы B чаще и с большей вероятностью совершают покупку."
   ]
  },
  {
   "cell_type": "markdown",
   "metadata": {},
   "source": [
    "### Строим и анализируем график относительного изменения кумулятивного среднего количества заказов на посетителя группы B к группе A"
   ]
  },
  {
   "cell_type": "code",
   "execution_count": 376,
   "metadata": {},
   "outputs": [
    {
     "data": {
      "image/png": "[encoded data removed]",
      "text/plain": [
       "<Figure size 864x360 with 1 Axes>"
      ]
     },
     "metadata": {
      "needs_background": "light"
     },
     "output_type": "display_data"
    }
   ],
   "source": [
    "# собираем данные в одном датафрейме\n",
    "mergedCumulativeVisitors = cumulativeVisitorsA.merge(cumulativeVisitorsB, left_on='date', right_on='date', how='left', suffixes=['A', 'B'])\n",
    "\n",
    "plt.figure(figsize=(12, 5))\n",
    "# cтроим отношение средних чеков\n",
    "plt.plot(mergedCumulativeVisitors['date'], (mergedCumulativeVisitors['count_transactionsB']/mergedCumulativeVisitors['visitorsB'])/(mergedCumulativeVisitors['count_transactionsA']/mergedCumulativeVisitors['visitorsA'])-1)\n",
    "\n",
    "# добавляем ось X\n",
    "plt.axhline(y=0, color='black', linestyle='--') \n",
    "plt.title('График относительного изменения кумулятивного среднего количества заказов на посетителя группы B к группе A');\n",
    "plt.xlabel('дата');\n",
    "plt.grid()\n",
    "plt.ylabel('Cтепень изменения');"
   ]
  },
  {
   "cell_type": "markdown",
   "metadata": {},
   "source": [
    "<b>Микровывод: </b> График B стабильно превосходит. Соотношение двух графиков стабилизировалось на уровне 0.10-0.15. Вряд ли стоит ожидать каких-то серьезных изменений. Данный график также подтверждает ранее выдвинутую гипотезу о повышенной конверсии группы B по сравнению с группой A."
   ]
  },
  {
   "cell_type": "markdown",
   "metadata": {},
   "source": [
    "### Строим и анализируем точечный график количества заказов по пользователям. "
   ]
  },
  {
   "cell_type": "code",
   "execution_count": 377,
   "metadata": {},
   "outputs": [
    {
     "data": {
      "text/html": [
       "<div>\n",
       "<style scoped>\n",
       "    .dataframe tbody tr th:only-of-type {\n",
       "        vertical-align: middle;\n",
       "    }\n",
       "\n",
       "    .dataframe tbody tr th {\n",
       "        vertical-align: top;\n",
       "    }\n",
       "\n",
       "    .dataframe thead th {\n",
       "        text-align: right;\n",
       "    }\n",
       "</style>\n",
       "<table border=\"1\" class=\"dataframe\">\n",
       "  <thead>\n",
       "    <tr style=\"text-align: right;\">\n",
       "      <th></th>\n",
       "      <th>visitor_id</th>\n",
       "      <th>orders</th>\n",
       "    </tr>\n",
       "  </thead>\n",
       "  <tbody>\n",
       "    <tr>\n",
       "      <th>1023</th>\n",
       "      <td>4256040402</td>\n",
       "      <td>11</td>\n",
       "    </tr>\n",
       "    <tr>\n",
       "      <th>591</th>\n",
       "      <td>2458001652</td>\n",
       "      <td>11</td>\n",
       "    </tr>\n",
       "    <tr>\n",
       "      <th>569</th>\n",
       "      <td>2378935119</td>\n",
       "      <td>9</td>\n",
       "    </tr>\n",
       "    <tr>\n",
       "      <th>487</th>\n",
       "      <td>2038680547</td>\n",
       "      <td>8</td>\n",
       "    </tr>\n",
       "    <tr>\n",
       "      <th>44</th>\n",
       "      <td>199603092</td>\n",
       "      <td>5</td>\n",
       "    </tr>\n",
       "    <tr>\n",
       "      <th>744</th>\n",
       "      <td>3062433592</td>\n",
       "      <td>5</td>\n",
       "    </tr>\n",
       "    <tr>\n",
       "      <th>55</th>\n",
       "      <td>237748145</td>\n",
       "      <td>5</td>\n",
       "    </tr>\n",
       "    <tr>\n",
       "      <th>917</th>\n",
       "      <td>3803269165</td>\n",
       "      <td>5</td>\n",
       "    </tr>\n",
       "    <tr>\n",
       "      <th>299</th>\n",
       "      <td>1230306981</td>\n",
       "      <td>5</td>\n",
       "    </tr>\n",
       "    <tr>\n",
       "      <th>897</th>\n",
       "      <td>3717692402</td>\n",
       "      <td>5</td>\n",
       "    </tr>\n",
       "  </tbody>\n",
       "</table>\n",
       "</div>"
      ],
      "text/plain": [
       "      visitor_id  orders\n",
       "1023  4256040402      11\n",
       "591   2458001652      11\n",
       "569   2378935119       9\n",
       "487   2038680547       8\n",
       "44     199603092       5\n",
       "744   3062433592       5\n",
       "55     237748145       5\n",
       "917   3803269165       5\n",
       "299   1230306981       5\n",
       "897   3717692402       5"
      ]
     },
     "execution_count": 377,
     "metadata": {},
     "output_type": "execute_result"
    }
   ],
   "source": [
    "ordersByUsers = (\n",
    "    orders.groupby('visitor_id', as_index=False)\n",
    "    .agg({'transaction_id': 'nunique'})\n",
    ")\n",
    "\n",
    "ordersByUsers.columns = ['visitor_id', 'orders']\n",
    "\n",
    "ordersByUsers.sort_values(by='orders', ascending=False).head(10) "
   ]
  },
  {
   "cell_type": "code",
   "execution_count": 378,
   "metadata": {},
   "outputs": [
    {
     "data": {
      "image/png": "[encoded data removed]",
      "text/plain": [
       "<Figure size 432x288 with 1 Axes>"
      ]
     },
     "metadata": {
      "needs_background": "light"
     },
     "output_type": "display_data"
    }
   ],
   "source": [
    "x_values = pd.Series(range(0,len(ordersByUsers['visitor_id'])))\n",
    "\n",
    "plt.scatter(x_values, ordersByUsers['orders']);\n",
    "plt.title('Точечный график количества заказов на одного пользователя');\n",
    "plt.ylabel('Кол-во заказов');"
   ]
  },
  {
   "cell_type": "code",
   "execution_count": 379,
   "metadata": {},
   "outputs": [
    {
     "data": {
      "image/png": "[encoded data removed]",
      "text/plain": [
       "<Figure size 432x288 with 1 Axes>"
      ]
     },
     "metadata": {
      "needs_background": "light"
     },
     "output_type": "display_data"
    }
   ],
   "source": [
    "#для понимания природы распределения построим гистограмму\n",
    "ordersByUsers['orders'].hist();"
   ]
  },
  {
   "cell_type": "markdown",
   "metadata": {},
   "source": [
    "Гистограмма демонстрирует наличие существенных выбросов"
   ]
  },
  {
   "cell_type": "markdown",
   "metadata": {},
   "source": [
    "<b>Микровывод: </b> Большинство пользователей сделали лишь по одному заказу. Однако немалая часть сделала по 2-3 заказа. Отдельные индивиды делали более 3 заказов."
   ]
  },
  {
   "cell_type": "markdown",
   "metadata": {},
   "source": [
    "### Считаем 95-й и 99-й перцентили количества заказов на пользователя и обозначаем границу для определения аномальных пользователей"
   ]
  },
  {
   "cell_type": "code",
   "execution_count": 380,
   "metadata": {},
   "outputs": [
    {
     "data": {
      "text/plain": [
       "array([1., 2., 4.])"
      ]
     },
     "execution_count": 380,
     "metadata": {},
     "output_type": "execute_result"
    }
   ],
   "source": [
    "np.percentile(ordersByUsers['orders'], [90, 95, 99])"
   ]
  },
  {
   "cell_type": "markdown",
   "metadata": {},
   "source": [
    "95% пользователей делала 1-2 заказа. Разумно выбрать 3 заказа на одного пользователя за верхнюю границу числа заказов, и отсеять аномальных пользователей по ней. "
   ]
  },
  {
   "cell_type": "markdown",
   "metadata": {},
   "source": [
    "### Строим и анализируем точечный график стоимостей заказов"
   ]
  },
  {
   "cell_type": "code",
   "execution_count": 381,
   "metadata": {},
   "outputs": [
    {
     "data": {
      "image/png": "[encoded data removed]",
      "text/plain": [
       "<Figure size 432x288 with 1 Axes>"
      ]
     },
     "metadata": {
      "needs_background": "light"
     },
     "output_type": "display_data"
    }
   ],
   "source": [
    "x_values = pd.Series(range(0,len(orders['revenue'])))\n",
    "plt.scatter(x_values, orders['revenue']);"
   ]
  },
  {
   "cell_type": "markdown",
   "metadata": {},
   "source": [
    "Видим, что один аномальный выброс мешает нам увидеть остальной график. Поэтому построим еще один, ограничив верхнюю границу"
   ]
  },
  {
   "cell_type": "code",
   "execution_count": 382,
   "metadata": {},
   "outputs": [
    {
     "data": {
      "image/png": "[encoded data removed]",
      "text/plain": [
       "<Figure size 432x288 with 1 Axes>"
      ]
     },
     "metadata": {
      "needs_background": "light"
     },
     "output_type": "display_data"
    }
   ],
   "source": [
    "x_values = pd.Series(range(0,len(orders['revenue'])))\n",
    "plt.scatter(x_values, orders['revenue']);\n",
    "plt.ylim(0,250000);"
   ]
  },
  {
   "cell_type": "code",
   "execution_count": 383,
   "metadata": {},
   "outputs": [
    {
     "data": {
      "image/png": "[encoded data removed]",
      "text/plain": [
       "<Figure size 432x288 with 1 Axes>"
      ]
     },
     "metadata": {
      "needs_background": "light"
     },
     "output_type": "display_data"
    }
   ],
   "source": [
    "#для понимания природы распределения построим гистограмму\n",
    "orders['revenue'].hist();\n",
    "plt.ylim(0, 100);"
   ]
  },
  {
   "cell_type": "markdown",
   "metadata": {},
   "source": [
    "Гистограмма также подтверждает существенные выбросы"
   ]
  },
  {
   "cell_type": "markdown",
   "metadata": {},
   "source": [
    "<b>Микровывод: </b> Распределение явно не нормальное, с огромным хвостом, скорее всего. Замечаем, что подавляющее большинство заказов стоит не более 50000. Выбросы превышают данную сумму. Два заказа - крайне дорогие (на 200 тыс. и на 1.3 миллиона). Возможно, именно они попали в группу B и исказили общую статистику."
   ]
  },
  {
   "cell_type": "markdown",
   "metadata": {},
   "source": [
    " ### Считаем 95-й и 99-й перцентили стоимости заказов и обозначаем границу для определения аномальных заказов"
   ]
  },
  {
   "cell_type": "code",
   "execution_count": 384,
   "metadata": {},
   "outputs": [
    {
     "data": {
      "text/plain": [
       "array([18168. , 28000. , 58233.2])"
      ]
     },
     "execution_count": 384,
     "metadata": {},
     "output_type": "execute_result"
    }
   ],
   "source": [
    "np.percentile(orders['revenue'], [90, 95, 99])"
   ]
  },
  {
   "cell_type": "markdown",
   "metadata": {},
   "source": [
    "95% заказов составляют сумму, не превышающую 28 тыс. Разумно выбрать именно ее за верхнюю границу суммы заказа, и отсеять аномальные заказы по ней."
   ]
  },
  {
   "cell_type": "markdown",
   "metadata": {},
   "source": [
    "### Считаем статистическую значимость различий в среднем количестве заказов на посетителя между группами по «сырым» данным"
   ]
  },
  {
   "cell_type": "markdown",
   "metadata": {},
   "source": [
    "Для этого мы используем тест Манна-Уитни, так как имеем распределения с большими хвостами. Именно тест Манна-Уитни благодаря ранжированию нейтрализует негативный эффект выбросов, которые, как мы выяснили по гистограммам, довольно существенны."
   ]
  },
  {
   "cell_type": "markdown",
   "metadata": {},
   "source": [
    "Посчитаем статистическую значимость различий в среднем числе заказов на посетителя по «сырым» данным — без удаления аномальных пользователей.\n",
    "Сформулируем гипотезы. Нулевая: различий в среднем количестве заказов между группами нет. Альтернативная: различия в среднем между группами есть."
   ]
  },
  {
   "cell_type": "markdown",
   "metadata": {},
   "source": [
    "Создадим переменные ordersByUsersA и ordersByUsersB со столбцами ['visitor_id', 'orders']. В них для пользователей, которые заказывали хотя бы 1 раз, укажем число совершённых заказов. "
   ]
  },
  {
   "cell_type": "code",
   "execution_count": 385,
   "metadata": {},
   "outputs": [],
   "source": [
    "ordersByUsersA = (\n",
    "    orders[orders['group'] == 'A']\n",
    "    .groupby('visitor_id', as_index=False)\n",
    "    .agg({'transaction_id': pd.Series.nunique})\n",
    ")\n",
    "ordersByUsersA.columns = ['visitor_id', 'orders']\n",
    "\n",
    "ordersByUsersB = (\n",
    "    orders[orders['group'] == 'B']\n",
    "    .groupby('visitor_id', as_index=False)\n",
    "    .agg({'transaction_id': pd.Series.nunique})\n",
    ")\n",
    "ordersByUsersB.columns = ['visitor_id', 'orders'] "
   ]
  },
  {
   "cell_type": "markdown",
   "metadata": {},
   "source": [
    "Объявим переменные sampleA и sampleB, в которых пользователям из разных групп будет соответствовать количество заказов. Тем, кто ничего не заказал, будут соответствовать нули. Это нужно, чтобы подготовить выборки к проверке критерием Манна-Уитни.\n"
   ]
  },
  {
   "cell_type": "code",
   "execution_count": 386,
   "metadata": {},
   "outputs": [],
   "source": [
    "sampleA = pd.concat([ordersByUsersA['orders'], pd.Series(0, index=np.arange(visits[visits['group']=='A']['visitors']\\\n",
    "        .sum() - len(ordersByUsersA['orders'])), name='orders')], axis=0)\n",
    "  "
   ]
  },
  {
   "cell_type": "code",
   "execution_count": 387,
   "metadata": {},
   "outputs": [],
   "source": [
    "sampleB = pd.concat([ordersByUsersB['orders'],pd.Series(0, index=np.arange(visits[visits['group']=='B']['visitors']\\\n",
    "    .sum()- len(ordersByUsersB['orders'])), name='orders')],axis=0) "
   ]
  },
  {
   "cell_type": "code",
   "execution_count": 388,
   "metadata": {},
   "outputs": [
    {
     "name": "stdout",
     "output_type": "stream",
     "text": [
      "Отвергаем нулевую гипотезу об отсутствие различий между средним кол-во заказов двух групп\n",
      "0.016792355056752608\n"
     ]
    }
   ],
   "source": [
    "#применяем критерий Манна-Уитни для двух выборок\n",
    "alpha = 0.05  #берем 5% за уровень значимиости\n",
    "\n",
    "if st.mannwhitneyu(sampleA, sampleB)[1]<=0.05:\n",
    "    print('Отвергаем нулевую гипотезу об отсутствие различий между средним кол-во заказов двух групп')\n",
    "else:\n",
    "    print('Оставляем нулевую гипотезу')\n",
    "print(st.mannwhitneyu(sampleA, sampleB)[1])"
   ]
  },
  {
   "cell_type": "markdown",
   "metadata": {},
   "source": [
    "<b> Микровывод: </b> Тест Манна-Уитни выдает низкий уровень значимости, то есть вполне логично отклонить гипотезу об отсутствие различий между средним кол-вом заказов в двух группах. Хотя если бы мы взяли p-value 1%, то нулевая гипотеза бы осталась."
   ]
  },
  {
   "cell_type": "markdown",
   "metadata": {},
   "source": [
    "### Считаем статистическую значимость различий в среднем чеке заказа между группами по «сырым» данным"
   ]
  },
  {
   "cell_type": "markdown",
   "metadata": {},
   "source": [
    "Посчитаем статистическую значимость различий в среднем чеке заказа между двумя группами по «сырым» данным — без удаления аномальных заказов.\n",
    "Сформулируем гипотезы. Нулевая: различий в среднем чеке между группами нет. Альтернативная: различия в среднем чеке между группами есть."
   ]
  },
  {
   "cell_type": "markdown",
   "metadata": {},
   "source": [
    "Создадим две выборки SampleCheckA и SampleCheckB, содержащие стоимости заказов двух групп"
   ]
  },
  {
   "cell_type": "code",
   "execution_count": 389,
   "metadata": {},
   "outputs": [],
   "source": [
    "sampleCheckA=orders[orders['group']=='A']['revenue']"
   ]
  },
  {
   "cell_type": "code",
   "execution_count": 390,
   "metadata": {},
   "outputs": [],
   "source": [
    "sampleCheckB = orders[orders['group']=='B']['revenue']"
   ]
  },
  {
   "cell_type": "code",
   "execution_count": 391,
   "metadata": {},
   "outputs": [
    {
     "name": "stdout",
     "output_type": "stream",
     "text": [
      "Оставляем нулевую гипотезу\n",
      "0.7292909855432458\n"
     ]
    }
   ],
   "source": [
    "#применяем критерий Манна-Уитни для двух выборок\n",
    "alpha = 0.05  #берем 5% за уровень значимиости\n",
    "\n",
    "if st.mannwhitneyu(sampleCheckA, sampleCheckB)[1]<=0.05:\n",
    "    print('Отвергаем нулевую гипотезу об отсутствие различий между средними чеками двух групп')\n",
    "else:\n",
    "    print('Оставляем нулевую гипотезу')\n",
    "print(st.mannwhitneyu(sampleCheckA, sampleCheckB)[1])"
   ]
  },
  {
   "cell_type": "markdown",
   "metadata": {},
   "source": [
    "<b> Микровывод: </b> Тест Манна-Уитни однозначно свидетельствует об отсутствие различий между средними чеками двух групп даже с учетом выбросов. "
   ]
  },
  {
   "cell_type": "markdown",
   "metadata": {},
   "source": [
    "### Считаем статистическую значимость различий в среднем количестве заказов на посетителя между группами по «очищенным» данным"
   ]
  },
  {
   "cell_type": "markdown",
   "metadata": {},
   "source": [
    "Посчитаем статистическую значимость различий в среднем числе заказов на посетителя по «очищенным» данным, удалив аномальных пользователей. Напомним, что аномальными считаются пользователи, сделавшие 3 заказа и более и заказы с чеком более 28000. Сформулируем гипотезы. Нулевая: различий в среднем количестве заказов между группами нет. Альтернативная: различия в среднем между группами есть."
   ]
  },
  {
   "cell_type": "markdown",
   "metadata": {},
   "source": [
    "Но сначала необходимо обозначить аномальных пользователей"
   ]
  },
  {
   "cell_type": "code",
   "execution_count": 392,
   "metadata": {},
   "outputs": [
    {
     "name": "stdout",
     "output_type": "stream",
     "text": [
      "1099    148427295\n",
      "18      199603092\n",
      "928     204675465\n",
      "23      237748145\n",
      "37      249864742\n",
      "Name: visitor_id, dtype: int64\n",
      "74\n"
     ]
    }
   ],
   "source": [
    "#пользователи с аноальным кол-вом заказов\n",
    "usersWithManyOrders = pd.concat(\n",
    "    [\n",
    "        ordersByUsersA[ordersByUsersA['orders'] >= 3]['visitor_id'],\n",
    "        ordersByUsersB[ordersByUsersB['orders'] >= 3]['visitor_id'],\n",
    "    ],\n",
    "    axis=0,\n",
    ")\n",
    "#пользователи с аномальными чеками\n",
    "usersWithExpensiveOrders = orders[orders['revenue'] > 28000]['visitor_id']\n",
    "\n",
    "#объединяем\n",
    "abnormalUsers = (\n",
    "    pd.concat([usersWithManyOrders, usersWithExpensiveOrders], axis=0)\n",
    "    .drop_duplicates()\n",
    "    .sort_values()\n",
    ")\n",
    "print(abnormalUsers.head(5))\n",
    "print(abnormalUsers.shape[0]) "
   ]
  },
  {
   "cell_type": "markdown",
   "metadata": {},
   "source": [
    "Всего 74 аномальных пользователя"
   ]
  },
  {
   "cell_type": "code",
   "execution_count": 393,
   "metadata": {},
   "outputs": [],
   "source": [
    "sampleAFiltered = pd.concat([ordersByUsersA[np.logical_not(ordersByUsersA['visitor_id'].isin(abnormalUsers))]\\\n",
    "        ['orders'], pd.Series(0, index=np.arange(visits[visits['group']=='A']['visitors']\\\n",
    "        .sum() - len(ordersByUsersA['orders'])), name='orders')], axis=0)"
   ]
  },
  {
   "cell_type": "code",
   "execution_count": 394,
   "metadata": {},
   "outputs": [],
   "source": [
    "sampleBFiltered = pd.concat([ordersByUsersB[np.logical_not(ordersByUsersB['visitor_id'].isin(abnormalUsers))]\\\n",
    "        ['orders'], pd.Series(0, index=np.arange(visits[visits['group']=='B']['visitors']\\\n",
    "        .sum() - len(ordersByUsersB['orders'])), name='orders')], axis=0)"
   ]
  },
  {
   "cell_type": "code",
   "execution_count": 395,
   "metadata": {},
   "outputs": [
    {
     "name": "stdout",
     "output_type": "stream",
     "text": [
      "Отвергаем нулевую гипотезу об отсутствие различий между средним кол-во заказов двух групп\n",
      "0.013042592743036745\n"
     ]
    }
   ],
   "source": [
    "#применяем критерий Манна-Уитни для двух выборок\n",
    "alpha = 0.05  #берем 5% за уровень значимиости\n",
    "\n",
    "if st.mannwhitneyu(sampleAFiltered, sampleBFiltered)[1]<=0.05:\n",
    "    print('Отвергаем нулевую гипотезу об отсутствие различий между средним кол-во заказов двух групп')\n",
    "else:\n",
    "    print('Оставляем нулевую гипотезу')\n",
    "print(st.mannwhitneyu(sampleAFiltered, sampleBFiltered)[1])"
   ]
  },
  {
   "cell_type": "markdown",
   "metadata": {},
   "source": [
    "<b> Микровывод:</b> Отсутствие выбросов еще более обозначило отличие средних двух групп. Теперь можно еще более уверенно говорить об объективном существовании различия между двумя группами."
   ]
  },
  {
   "cell_type": "markdown",
   "metadata": {},
   "source": [
    "### Считаем статистическую значимость различий в среднем чеке заказа между группами по «очищенным» данным"
   ]
  },
  {
   "cell_type": "markdown",
   "metadata": {},
   "source": [
    "Посчитаем статистическую значимость различий в среднем чеке заказа между двумя группами по «очищенным» данным, удалив аномальные заказы. Напомним, что аномальными считаются пользователи, сделавшие 3 заказа и более и заказы с чеком более 28000.\n",
    "Сформулируем гипотезы. Нулевая: различий в среднем чеке между группами нет. Альтернативная: различия в среднем чеке между группами есть."
   ]
  },
  {
   "cell_type": "code",
   "execution_count": 396,
   "metadata": {},
   "outputs": [],
   "source": [
    "sampleCheckAFiltered = orders[\n",
    "                np.logical_and(\n",
    "                    orders['group'] == 'A',\n",
    "                    np.logical_not(orders['visitor_id'].isin(abnormalUsers)),\n",
    "                )\n",
    "            ]['revenue']"
   ]
  },
  {
   "cell_type": "code",
   "execution_count": 397,
   "metadata": {},
   "outputs": [],
   "source": [
    "sampleCheckBFiltered = orders[\n",
    "                np.logical_and(\n",
    "                    orders['group'] == 'B',\n",
    "                    np.logical_not(orders['visitor_id'].isin(abnormalUsers)),\n",
    "                )\n",
    "            ]['revenue']"
   ]
  },
  {
   "cell_type": "code",
   "execution_count": 398,
   "metadata": {},
   "outputs": [
    {
     "name": "stdout",
     "output_type": "stream",
     "text": [
      "Оставляем нулевую гипотезу\n",
      "0.738481751314565\n"
     ]
    }
   ],
   "source": [
    "#применяем критерий Манна-Уитни для двух выборок\n",
    "alpha = 0.05  #берем 5% за уровень значимиости\n",
    "\n",
    "if st.mannwhitneyu(sampleCheckAFiltered, sampleCheckBFiltered)[1]<=0.05:\n",
    "    print('Отвергаем нулевую гипотезу об отсутствие различий между средними чеками двух групп')\n",
    "else:\n",
    "    print('Оставляем нулевую гипотезу')\n",
    "print(st.mannwhitneyu(sampleCheckAFiltered, sampleCheckBFiltered)[1])"
   ]
  },
  {
   "cell_type": "markdown",
   "metadata": {},
   "source": [
    "<b> Микровывод:</b> Тест Манна-Уитни с очищенными выборками подтвердил ранее принятый вывод об отсутствие серьезных различий между чеками двух групп.Скорее всего, это связано с удалением тех заказов, которые стали причиной увеличения кумулитивного среднего чека после 17ого августа (то что мы видели на графике выше). То есть группа B превосходит группу A именно кол-вом заказов на одного посетителя, а не их дороговизной.\n"
   ]
  },
  {
   "cell_type": "markdown",
   "metadata": {},
   "source": [
    "### Вывод"
   ]
  },
  {
   "cell_type": "markdown",
   "metadata": {},
   "source": [
    "Принимаем следуещее решение: Останавливаем A/B-тест, зафиксировав победу группы B в конверсии по следующим причинам:\n",
    "\n",
    "    1)График средних чеков засвидетельствовал попадание серьезных выбросов после 17 августа в группу B, благодаря чему кумулитивный средний чек группы B надолго превзошел средний чек группы A. Однако тест Манна-Уитни, который процесс ранжирования нейтрализует пагубное влияние выбросов, выдал уровень значимости, согласно которому нельзя с уверенностью говорить о серезных различиях между двумя группами чеков. Данный тест с очищенными данными лишь еще раз подтвердил выводы первого. По двум тестам мы имеем довольно однозначный уровень значимости - это еще один довод в пользу остановки теста. Нет статистически значимого различия по среднему чеку между группами ни по «сырым», ни по данным после фильтрации аномалий. Исходя из вышесказанного, делаем вывод об отсутствие различий между средними чеками двух групп, несмотря на график.\n",
    "    \n",
    "     2)Абсолютно другая история со средним числом заказов на одного посетителя. Тест Манна-Уитни с \"сырыми\" данными и с \"очищщенными\" выдает довольно низкий уровень значимости, исходя из чего мы отвергаем гипотезу о равенстве кол-ва заказов на одного посетителя между двумя группами. Такой вывод подтверждает график, который также однозначно свидетельствует о наличие серьезных различий при отстуствие каких-либо значимых флуктуаций. Однозначность результатов теста Манна-Уитни и графика также доказывает нам бесполезность продолжения A/B теста.\n",
    "     \n",
    "     Таким образом, группа B превосходит группу A в кол-ве заказов на одного пользователя, однако группы равны в среднем чеке. Можно уверенно говорить, что изменения на сайте интернет-магазина привели к положительным изменениям, исходя из чего рекомендую принять нововведения."
   ]
  }
 ],
 "metadata": {
  "ExecuteTimeLog": [
   {
    "duration": 1586,
    "start_time": "2023-01-02T20:13:18.614Z"
   },
   {
    "duration": 4,
    "start_time": "2023-01-02T20:54:15.583Z"
   },
   {
    "duration": 75,
    "start_time": "2023-01-02T20:57:21.454Z"
   },
   {
    "duration": 168,
    "start_time": "2023-01-02T20:58:10.304Z"
   },
   {
    "duration": 80,
    "start_time": "2023-01-02T20:58:24.309Z"
   },
   {
    "duration": 16,
    "start_time": "2023-01-02T20:59:09.677Z"
   },
   {
    "duration": 12,
    "start_time": "2023-01-02T20:59:28.021Z"
   },
   {
    "duration": 15,
    "start_time": "2023-01-02T21:01:36.667Z"
   },
   {
    "duration": 16,
    "start_time": "2023-01-02T21:02:19.510Z"
   },
   {
    "duration": 9,
    "start_time": "2023-01-02T21:02:31.363Z"
   },
   {
    "duration": 6,
    "start_time": "2023-01-02T21:03:22.673Z"
   },
   {
    "duration": 14,
    "start_time": "2023-01-02T21:03:27.805Z"
   },
   {
    "duration": 11,
    "start_time": "2023-01-02T21:03:37.574Z"
   },
   {
    "duration": 4,
    "start_time": "2023-01-02T21:06:58.207Z"
   },
   {
    "duration": 9,
    "start_time": "2023-01-02T21:07:00.774Z"
   },
   {
    "duration": 7,
    "start_time": "2023-01-02T21:07:08.314Z"
   },
   {
    "duration": 11,
    "start_time": "2023-01-02T21:07:16.780Z"
   },
   {
    "duration": 6,
    "start_time": "2023-01-02T21:07:55.712Z"
   },
   {
    "duration": 6,
    "start_time": "2023-01-02T21:08:18.099Z"
   },
   {
    "duration": 5,
    "start_time": "2023-01-02T21:08:37.203Z"
   },
   {
    "duration": 6,
    "start_time": "2023-01-02T21:08:46.107Z"
   },
   {
    "duration": 7,
    "start_time": "2023-01-02T21:09:09.435Z"
   },
   {
    "duration": 12,
    "start_time": "2023-01-02T21:09:59.330Z"
   },
   {
    "duration": 4,
    "start_time": "2023-01-02T21:13:34.821Z"
   },
   {
    "duration": 101,
    "start_time": "2023-01-02T21:13:38.878Z"
   },
   {
    "duration": 10,
    "start_time": "2023-01-02T21:13:47.630Z"
   },
   {
    "duration": 3,
    "start_time": "2023-01-02T21:13:55.918Z"
   },
   {
    "duration": 81,
    "start_time": "2023-01-02T21:13:55.924Z"
   },
   {
    "duration": 12,
    "start_time": "2023-01-02T21:13:56.007Z"
   },
   {
    "duration": 16,
    "start_time": "2023-01-02T21:13:56.021Z"
   },
   {
    "duration": 14,
    "start_time": "2023-01-02T21:13:56.040Z"
   },
   {
    "duration": 9,
    "start_time": "2023-01-02T21:13:56.056Z"
   },
   {
    "duration": 7,
    "start_time": "2023-01-02T21:13:56.067Z"
   },
   {
    "duration": 12,
    "start_time": "2023-01-02T21:13:56.076Z"
   },
   {
    "duration": 8,
    "start_time": "2023-01-02T21:13:56.089Z"
   },
   {
    "duration": 11,
    "start_time": "2023-01-02T21:13:56.098Z"
   },
   {
    "duration": 5,
    "start_time": "2023-01-02T21:13:59.800Z"
   },
   {
    "duration": 13,
    "start_time": "2023-01-02T21:14:03.608Z"
   },
   {
    "duration": 71,
    "start_time": "2023-01-02T21:15:31.878Z"
   },
   {
    "duration": 3,
    "start_time": "2023-01-02T21:15:35.680Z"
   },
   {
    "duration": 11,
    "start_time": "2023-01-02T21:15:40.631Z"
   },
   {
    "duration": 4,
    "start_time": "2023-01-02T21:16:40.763Z"
   },
   {
    "duration": 4,
    "start_time": "2023-01-02T21:16:41.563Z"
   },
   {
    "duration": 47,
    "start_time": "2023-01-03T17:09:05.207Z"
   },
   {
    "duration": 1220,
    "start_time": "2023-01-03T17:09:13.741Z"
   },
   {
    "duration": 188,
    "start_time": "2023-01-03T17:09:14.964Z"
   },
   {
    "duration": 16,
    "start_time": "2023-01-03T17:09:15.153Z"
   },
   {
    "duration": 13,
    "start_time": "2023-01-03T17:09:15.171Z"
   },
   {
    "duration": 22,
    "start_time": "2023-01-03T17:09:15.186Z"
   },
   {
    "duration": 11,
    "start_time": "2023-01-03T17:09:15.210Z"
   },
   {
    "duration": 9,
    "start_time": "2023-01-03T17:09:15.223Z"
   },
   {
    "duration": 12,
    "start_time": "2023-01-03T17:09:15.233Z"
   },
   {
    "duration": 16,
    "start_time": "2023-01-03T17:09:15.246Z"
   },
   {
    "duration": 9,
    "start_time": "2023-01-03T17:09:15.264Z"
   },
   {
    "duration": 4,
    "start_time": "2023-01-03T17:09:15.275Z"
   },
   {
    "duration": 7,
    "start_time": "2023-01-03T17:09:15.280Z"
   },
   {
    "duration": 10,
    "start_time": "2023-01-03T17:09:18.722Z"
   },
   {
    "duration": 5,
    "start_time": "2023-01-03T17:10:33.700Z"
   },
   {
    "duration": 9,
    "start_time": "2023-01-03T17:10:36.681Z"
   },
   {
    "duration": 64,
    "start_time": "2023-01-03T17:11:01.362Z"
   },
   {
    "duration": 10,
    "start_time": "2023-01-03T17:11:32.548Z"
   },
   {
    "duration": 4,
    "start_time": "2023-01-03T17:11:35.538Z"
   },
   {
    "duration": 9,
    "start_time": "2023-01-03T17:11:38.605Z"
   },
   {
    "duration": 3,
    "start_time": "2023-01-03T17:11:50.705Z"
   },
   {
    "duration": 8,
    "start_time": "2023-01-03T17:11:51.545Z"
   },
   {
    "duration": 4,
    "start_time": "2023-01-03T17:13:23.479Z"
   },
   {
    "duration": 4,
    "start_time": "2023-01-03T17:13:24.123Z"
   },
   {
    "duration": 13,
    "start_time": "2023-01-03T17:13:24.813Z"
   },
   {
    "duration": 8,
    "start_time": "2023-01-03T17:15:08.041Z"
   },
   {
    "duration": 5,
    "start_time": "2023-01-03T17:17:11.170Z"
   },
   {
    "duration": 11,
    "start_time": "2023-01-03T17:17:13.944Z"
   },
   {
    "duration": 4,
    "start_time": "2023-01-03T17:17:41.200Z"
   },
   {
    "duration": 10,
    "start_time": "2023-01-03T17:17:45.698Z"
   },
   {
    "duration": 10,
    "start_time": "2023-01-03T17:25:29.532Z"
   },
   {
    "duration": 12,
    "start_time": "2023-01-03T17:46:58.421Z"
   },
   {
    "duration": 12,
    "start_time": "2023-01-03T17:47:14.255Z"
   },
   {
    "duration": 6,
    "start_time": "2023-01-03T17:58:20.454Z"
   },
   {
    "duration": 25,
    "start_time": "2023-01-03T18:00:29.061Z"
   },
   {
    "duration": 23,
    "start_time": "2023-01-03T18:00:56.749Z"
   },
   {
    "duration": 164,
    "start_time": "2023-01-03T18:01:29.587Z"
   },
   {
    "duration": 11,
    "start_time": "2023-01-03T18:01:34.930Z"
   },
   {
    "duration": 9,
    "start_time": "2023-01-03T18:04:20.769Z"
   },
   {
    "duration": 8,
    "start_time": "2023-01-03T18:04:29.123Z"
   },
   {
    "duration": 12,
    "start_time": "2023-01-03T18:04:55.217Z"
   },
   {
    "duration": 10,
    "start_time": "2023-01-03T18:08:53.870Z"
   },
   {
    "duration": 12,
    "start_time": "2023-01-03T18:09:17.835Z"
   },
   {
    "duration": 16,
    "start_time": "2023-01-03T18:11:57.461Z"
   },
   {
    "duration": 9,
    "start_time": "2023-01-03T18:12:32.510Z"
   },
   {
    "duration": 14,
    "start_time": "2023-01-03T18:12:39.385Z"
   },
   {
    "duration": 116,
    "start_time": "2023-01-03T18:12:58.336Z"
   },
   {
    "duration": 10,
    "start_time": "2023-01-03T18:13:02.407Z"
   },
   {
    "duration": 6,
    "start_time": "2023-01-03T18:24:04.239Z"
   },
   {
    "duration": 6,
    "start_time": "2023-01-03T18:24:13.211Z"
   },
   {
    "duration": 12,
    "start_time": "2023-01-03T18:24:34.932Z"
   },
   {
    "duration": 10,
    "start_time": "2023-01-03T18:24:56.747Z"
   },
   {
    "duration": 4,
    "start_time": "2023-01-03T18:25:29.967Z"
   },
   {
    "duration": 8,
    "start_time": "2023-01-03T18:25:33.380Z"
   },
   {
    "duration": 8,
    "start_time": "2023-01-03T18:25:33.983Z"
   },
   {
    "duration": 15,
    "start_time": "2023-01-03T18:26:06.902Z"
   },
   {
    "duration": 13,
    "start_time": "2023-01-03T18:26:32.458Z"
   },
   {
    "duration": 242,
    "start_time": "2023-01-03T18:27:02.420Z"
   },
   {
    "duration": 176,
    "start_time": "2023-01-03T18:27:45.327Z"
   },
   {
    "duration": 160,
    "start_time": "2023-01-03T18:27:57.670Z"
   },
   {
    "duration": 183,
    "start_time": "2023-01-03T18:28:12.441Z"
   },
   {
    "duration": 183,
    "start_time": "2023-01-03T18:28:27.046Z"
   },
   {
    "duration": 210,
    "start_time": "2023-01-03T18:29:01.412Z"
   },
   {
    "duration": 212,
    "start_time": "2023-01-03T18:29:35.553Z"
   },
   {
    "duration": 166,
    "start_time": "2023-01-03T18:29:58.117Z"
   },
   {
    "duration": 333,
    "start_time": "2023-01-03T18:30:35.986Z"
   },
   {
    "duration": 227,
    "start_time": "2023-01-03T18:31:41.354Z"
   },
   {
    "duration": 334,
    "start_time": "2023-01-03T18:33:43.957Z"
   },
   {
    "duration": 138,
    "start_time": "2023-01-03T18:34:10.348Z"
   },
   {
    "duration": 153,
    "start_time": "2023-01-03T18:34:17.086Z"
   },
   {
    "duration": 139,
    "start_time": "2023-01-03T18:34:24.255Z"
   },
   {
    "duration": 202,
    "start_time": "2023-01-03T18:34:31.733Z"
   },
   {
    "duration": 254,
    "start_time": "2023-01-03T18:35:36.064Z"
   },
   {
    "duration": 170,
    "start_time": "2023-01-03T18:35:40.460Z"
   },
   {
    "duration": 191,
    "start_time": "2023-01-03T18:35:47.154Z"
   },
   {
    "duration": 218,
    "start_time": "2023-01-03T18:36:17.178Z"
   },
   {
    "duration": 284,
    "start_time": "2023-01-03T18:36:33.097Z"
   },
   {
    "duration": 175,
    "start_time": "2023-01-03T18:46:01.383Z"
   },
   {
    "duration": 164,
    "start_time": "2023-01-03T18:46:18.686Z"
   },
   {
    "duration": 182,
    "start_time": "2023-01-03T18:46:30.822Z"
   },
   {
    "duration": 174,
    "start_time": "2023-01-03T19:05:44.383Z"
   },
   {
    "duration": 183,
    "start_time": "2023-01-03T19:06:02.153Z"
   },
   {
    "duration": 309,
    "start_time": "2023-01-03T19:12:36.698Z"
   },
   {
    "duration": 236,
    "start_time": "2023-01-03T19:13:07.144Z"
   },
   {
    "duration": 252,
    "start_time": "2023-01-03T19:13:12.524Z"
   },
   {
    "duration": 16,
    "start_time": "2023-01-03T19:13:32.179Z"
   },
   {
    "duration": 293,
    "start_time": "2023-01-03T19:14:23.817Z"
   },
   {
    "duration": 295,
    "start_time": "2023-01-03T19:15:03.415Z"
   },
   {
    "duration": 379,
    "start_time": "2023-01-03T19:15:11.408Z"
   },
   {
    "duration": 47,
    "start_time": "2023-01-03T20:38:17.285Z"
   },
   {
    "duration": 1315,
    "start_time": "2023-01-03T20:38:52.948Z"
   },
   {
    "duration": 198,
    "start_time": "2023-01-03T20:38:54.266Z"
   },
   {
    "duration": 13,
    "start_time": "2023-01-03T20:38:54.465Z"
   },
   {
    "duration": 12,
    "start_time": "2023-01-03T20:38:54.480Z"
   },
   {
    "duration": 12,
    "start_time": "2023-01-03T20:38:54.495Z"
   },
   {
    "duration": 7,
    "start_time": "2023-01-03T20:38:54.509Z"
   },
   {
    "duration": 7,
    "start_time": "2023-01-03T20:38:54.517Z"
   },
   {
    "duration": 10,
    "start_time": "2023-01-03T20:38:54.525Z"
   },
   {
    "duration": 8,
    "start_time": "2023-01-03T20:38:54.537Z"
   },
   {
    "duration": 7,
    "start_time": "2023-01-03T20:38:54.547Z"
   },
   {
    "duration": 7,
    "start_time": "2023-01-03T20:38:54.555Z"
   },
   {
    "duration": 9,
    "start_time": "2023-01-03T20:38:54.564Z"
   },
   {
    "duration": 9,
    "start_time": "2023-01-03T20:38:54.575Z"
   },
   {
    "duration": 4,
    "start_time": "2023-01-03T20:38:54.587Z"
   },
   {
    "duration": 32,
    "start_time": "2023-01-03T20:38:54.592Z"
   },
   {
    "duration": 4,
    "start_time": "2023-01-03T20:38:54.626Z"
   },
   {
    "duration": 7,
    "start_time": "2023-01-03T20:38:54.632Z"
   },
   {
    "duration": 15,
    "start_time": "2023-01-03T20:38:54.640Z"
   },
   {
    "duration": 17,
    "start_time": "2023-01-03T20:38:54.656Z"
   },
   {
    "duration": 8,
    "start_time": "2023-01-03T20:38:54.675Z"
   },
   {
    "duration": 177,
    "start_time": "2023-01-03T20:38:54.685Z"
   },
   {
    "duration": 3,
    "start_time": "2023-01-03T20:38:54.864Z"
   },
   {
    "duration": 14,
    "start_time": "2023-01-03T20:38:54.868Z"
   },
   {
    "duration": 138,
    "start_time": "2023-01-03T20:38:54.884Z"
   },
   {
    "duration": 11,
    "start_time": "2023-01-03T20:38:55.023Z"
   },
   {
    "duration": 9,
    "start_time": "2023-01-03T20:38:55.035Z"
   },
   {
    "duration": 9,
    "start_time": "2023-01-03T20:38:55.046Z"
   },
   {
    "duration": 292,
    "start_time": "2023-01-03T20:38:55.057Z"
   },
   {
    "duration": 203,
    "start_time": "2023-01-03T20:38:55.351Z"
   },
   {
    "duration": 355,
    "start_time": "2023-01-03T20:38:55.556Z"
   },
   {
    "duration": 1175,
    "start_time": "2023-01-03T20:38:58.208Z"
   },
   {
    "duration": 9,
    "start_time": "2023-01-03T20:39:09.905Z"
   },
   {
    "duration": 12,
    "start_time": "2023-01-03T20:41:13.741Z"
   },
   {
    "duration": 218,
    "start_time": "2023-01-03T20:45:05.458Z"
   },
   {
    "duration": 224,
    "start_time": "2023-01-03T20:46:27.413Z"
   },
   {
    "duration": 294,
    "start_time": "2023-01-03T20:47:47.522Z"
   },
   {
    "duration": 205,
    "start_time": "2023-01-03T20:56:23.298Z"
   },
   {
    "duration": 10,
    "start_time": "2023-01-03T20:58:35.072Z"
   },
   {
    "duration": 1132,
    "start_time": "2023-01-03T20:58:46.266Z"
   },
   {
    "duration": 1135,
    "start_time": "2023-01-03T20:59:15.636Z"
   },
   {
    "duration": 274,
    "start_time": "2023-01-03T20:59:41.040Z"
   },
   {
    "duration": 305,
    "start_time": "2023-01-03T21:00:23.321Z"
   },
   {
    "duration": 293,
    "start_time": "2023-01-03T21:00:47.931Z"
   },
   {
    "duration": 322,
    "start_time": "2023-01-03T21:03:48.612Z"
   },
   {
    "duration": 119,
    "start_time": "2023-01-03T21:12:37.134Z"
   },
   {
    "duration": 11,
    "start_time": "2023-01-03T21:13:05.710Z"
   },
   {
    "duration": 12,
    "start_time": "2023-01-03T21:13:49.271Z"
   },
   {
    "duration": 11,
    "start_time": "2023-01-03T21:23:15.595Z"
   },
   {
    "duration": 7,
    "start_time": "2023-01-03T21:23:38.449Z"
   },
   {
    "duration": 11,
    "start_time": "2023-01-03T21:23:42.982Z"
   },
   {
    "duration": 12,
    "start_time": "2023-01-03T21:23:48.952Z"
   },
   {
    "duration": 8,
    "start_time": "2023-01-03T21:27:29.672Z"
   },
   {
    "duration": 8,
    "start_time": "2023-01-03T21:27:38.246Z"
   },
   {
    "duration": 13,
    "start_time": "2023-01-03T21:27:44.926Z"
   },
   {
    "duration": 9,
    "start_time": "2023-01-03T21:27:49.340Z"
   },
   {
    "duration": 8,
    "start_time": "2023-01-03T21:27:53.626Z"
   },
   {
    "duration": 14,
    "start_time": "2023-01-03T21:28:30.027Z"
   },
   {
    "duration": 10,
    "start_time": "2023-01-03T21:28:46.143Z"
   },
   {
    "duration": 12,
    "start_time": "2023-01-03T21:29:51.971Z"
   },
   {
    "duration": 12,
    "start_time": "2023-01-03T21:31:05.899Z"
   },
   {
    "duration": 9,
    "start_time": "2023-01-03T21:31:22.778Z"
   },
   {
    "duration": 12,
    "start_time": "2023-01-03T21:31:28.639Z"
   },
   {
    "duration": 102,
    "start_time": "2023-01-03T21:32:38.991Z"
   },
   {
    "duration": 99,
    "start_time": "2023-01-03T21:32:51.388Z"
   },
   {
    "duration": 117,
    "start_time": "2023-01-03T21:33:43.304Z"
   },
   {
    "duration": 144,
    "start_time": "2023-01-03T21:33:48.666Z"
   },
   {
    "duration": 119,
    "start_time": "2023-01-03T21:33:56.384Z"
   },
   {
    "duration": 202,
    "start_time": "2023-01-03T21:34:43.788Z"
   },
   {
    "duration": 5,
    "start_time": "2023-01-03T21:39:05.222Z"
   },
   {
    "duration": 5,
    "start_time": "2023-01-03T21:39:55.411Z"
   },
   {
    "duration": 6,
    "start_time": "2023-01-03T21:39:59.107Z"
   },
   {
    "duration": 6,
    "start_time": "2023-01-03T21:40:02.318Z"
   },
   {
    "duration": 5,
    "start_time": "2023-01-03T21:40:06.720Z"
   },
   {
    "duration": 12,
    "start_time": "2023-01-03T21:43:34.031Z"
   },
   {
    "duration": 131,
    "start_time": "2023-01-03T21:44:14.250Z"
   },
   {
    "duration": 116,
    "start_time": "2023-01-03T21:44:38.841Z"
   },
   {
    "duration": 119,
    "start_time": "2023-01-03T21:58:14.557Z"
   },
   {
    "duration": 115,
    "start_time": "2023-01-03T21:58:45.177Z"
   },
   {
    "duration": 139,
    "start_time": "2023-01-03T21:58:55.121Z"
   },
   {
    "duration": 117,
    "start_time": "2023-01-03T21:59:12.418Z"
   },
   {
    "duration": 127,
    "start_time": "2023-01-03T21:59:25.707Z"
   },
   {
    "duration": 5,
    "start_time": "2023-01-03T22:04:20.860Z"
   },
   {
    "duration": 45,
    "start_time": "2023-01-04T09:07:23.140Z"
   },
   {
    "duration": 1259,
    "start_time": "2023-01-04T09:07:29.663Z"
   },
   {
    "duration": 193,
    "start_time": "2023-01-04T09:07:30.924Z"
   },
   {
    "duration": 14,
    "start_time": "2023-01-04T09:07:31.118Z"
   },
   {
    "duration": 12,
    "start_time": "2023-01-04T09:07:31.135Z"
   },
   {
    "duration": 12,
    "start_time": "2023-01-04T09:07:31.149Z"
   },
   {
    "duration": 12,
    "start_time": "2023-01-04T09:07:31.163Z"
   },
   {
    "duration": 10,
    "start_time": "2023-01-04T09:07:31.177Z"
   },
   {
    "duration": 11,
    "start_time": "2023-01-04T09:07:31.188Z"
   },
   {
    "duration": 7,
    "start_time": "2023-01-04T09:07:31.200Z"
   },
   {
    "duration": 6,
    "start_time": "2023-01-04T09:07:31.223Z"
   },
   {
    "duration": 7,
    "start_time": "2023-01-04T09:07:31.231Z"
   },
   {
    "duration": 11,
    "start_time": "2023-01-04T09:07:31.239Z"
   },
   {
    "duration": 15,
    "start_time": "2023-01-04T09:07:31.251Z"
   },
   {
    "duration": 14,
    "start_time": "2023-01-04T09:07:31.268Z"
   },
   {
    "duration": 27,
    "start_time": "2023-01-04T09:07:31.284Z"
   },
   {
    "duration": 31,
    "start_time": "2023-01-04T09:07:31.313Z"
   },
   {
    "duration": 39,
    "start_time": "2023-01-04T09:07:31.346Z"
   },
   {
    "duration": 16,
    "start_time": "2023-01-04T09:07:31.386Z"
   },
   {
    "duration": 13,
    "start_time": "2023-01-04T09:07:31.404Z"
   },
   {
    "duration": 7,
    "start_time": "2023-01-04T09:07:31.418Z"
   },
   {
    "duration": 190,
    "start_time": "2023-01-04T09:07:31.426Z"
   },
   {
    "duration": 3,
    "start_time": "2023-01-04T09:07:31.621Z"
   },
   {
    "duration": 45,
    "start_time": "2023-01-04T09:07:31.626Z"
   },
   {
    "duration": 131,
    "start_time": "2023-01-04T09:07:31.672Z"
   },
   {
    "duration": 26,
    "start_time": "2023-01-04T09:07:31.804Z"
   },
   {
    "duration": 16,
    "start_time": "2023-01-04T09:07:31.832Z"
   },
   {
    "duration": 14,
    "start_time": "2023-01-04T09:07:31.850Z"
   },
   {
    "duration": 294,
    "start_time": "2023-01-04T09:07:31.868Z"
   },
   {
    "duration": 215,
    "start_time": "2023-01-04T09:07:32.163Z"
   },
   {
    "duration": 364,
    "start_time": "2023-01-04T09:07:32.379Z"
   },
   {
    "duration": 12,
    "start_time": "2023-01-04T09:07:32.744Z"
   },
   {
    "duration": 247,
    "start_time": "2023-01-04T09:07:32.757Z"
   },
   {
    "duration": 342,
    "start_time": "2023-01-04T09:07:33.006Z"
   },
   {
    "duration": 11,
    "start_time": "2023-01-04T09:07:33.350Z"
   },
   {
    "duration": 140,
    "start_time": "2023-01-04T09:07:33.362Z"
   },
   {
    "duration": 5,
    "start_time": "2023-01-04T09:07:33.503Z"
   },
   {
    "duration": 140,
    "start_time": "2023-01-04T09:07:33.510Z"
   },
   {
    "duration": 119,
    "start_time": "2023-01-04T09:07:33.651Z"
   },
   {
    "duration": 5,
    "start_time": "2023-01-04T09:07:33.772Z"
   },
   {
    "duration": 63,
    "start_time": "2023-01-04T09:07:40.224Z"
   },
   {
    "duration": 9,
    "start_time": "2023-01-04T09:07:58.094Z"
   },
   {
    "duration": 133,
    "start_time": "2023-01-04T09:09:31.403Z"
   },
   {
    "duration": 11,
    "start_time": "2023-01-04T09:09:36.459Z"
   },
   {
    "duration": 9,
    "start_time": "2023-01-04T09:09:45.364Z"
   },
   {
    "duration": 9,
    "start_time": "2023-01-04T09:09:51.472Z"
   },
   {
    "duration": 8,
    "start_time": "2023-01-04T09:13:40.491Z"
   },
   {
    "duration": 10,
    "start_time": "2023-01-04T09:13:43.935Z"
   },
   {
    "duration": 73,
    "start_time": "2023-01-04T09:14:13.068Z"
   },
   {
    "duration": 11,
    "start_time": "2023-01-04T09:14:20.780Z"
   },
   {
    "duration": 5,
    "start_time": "2023-01-04T09:20:07.507Z"
   },
   {
    "duration": 7,
    "start_time": "2023-01-04T09:20:37.082Z"
   },
   {
    "duration": 11,
    "start_time": "2023-01-04T09:22:16.988Z"
   },
   {
    "duration": 4,
    "start_time": "2023-01-04T09:22:46.159Z"
   },
   {
    "duration": 5,
    "start_time": "2023-01-04T09:22:51.099Z"
   },
   {
    "duration": 6,
    "start_time": "2023-01-04T09:22:55.869Z"
   },
   {
    "duration": 5,
    "start_time": "2023-01-04T09:24:46.765Z"
   },
   {
    "duration": 5,
    "start_time": "2023-01-04T09:24:52.164Z"
   },
   {
    "duration": 88,
    "start_time": "2023-01-04T09:28:19.520Z"
   },
   {
    "duration": 12,
    "start_time": "2023-01-04T09:28:25.526Z"
   },
   {
    "duration": 5,
    "start_time": "2023-01-04T09:28:38.090Z"
   },
   {
    "duration": 11,
    "start_time": "2023-01-04T09:28:45.145Z"
   },
   {
    "duration": 5,
    "start_time": "2023-01-04T09:28:48.511Z"
   },
   {
    "duration": 7,
    "start_time": "2023-01-04T09:29:10.573Z"
   },
   {
    "duration": 8,
    "start_time": "2023-01-04T09:31:42.140Z"
   },
   {
    "duration": 20,
    "start_time": "2023-01-04T09:31:55.405Z"
   },
   {
    "duration": 22,
    "start_time": "2023-01-04T09:32:03.806Z"
   },
   {
    "duration": 6,
    "start_time": "2023-01-04T09:33:11.552Z"
   },
   {
    "duration": 5,
    "start_time": "2023-01-04T09:34:47.575Z"
   },
   {
    "duration": 4,
    "start_time": "2023-01-04T09:35:08.421Z"
   },
   {
    "duration": 4,
    "start_time": "2023-01-04T09:35:13.781Z"
   },
   {
    "duration": 27,
    "start_time": "2023-01-04T09:41:30.748Z"
   },
   {
    "duration": 23,
    "start_time": "2023-01-04T09:42:01.805Z"
   },
   {
    "duration": 10,
    "start_time": "2023-01-04T10:35:23.573Z"
   },
   {
    "duration": 11,
    "start_time": "2023-01-04T10:35:41.195Z"
   },
   {
    "duration": 11,
    "start_time": "2023-01-04T10:35:56.442Z"
   },
   {
    "duration": 5,
    "start_time": "2023-01-04T10:42:30.271Z"
   },
   {
    "duration": 6,
    "start_time": "2023-01-04T10:42:40.316Z"
   },
   {
    "duration": 4,
    "start_time": "2023-01-04T10:43:03.393Z"
   },
   {
    "duration": 6,
    "start_time": "2023-01-04T10:43:16.223Z"
   },
   {
    "duration": 34,
    "start_time": "2023-01-04T10:43:56.535Z"
   },
   {
    "duration": 10,
    "start_time": "2023-01-04T10:44:04.414Z"
   },
   {
    "duration": 61,
    "start_time": "2023-01-04T10:44:15.842Z"
   },
   {
    "duration": 9,
    "start_time": "2023-01-04T10:52:59.985Z"
   },
   {
    "duration": 5,
    "start_time": "2023-01-04T10:53:14.354Z"
   },
   {
    "duration": 5,
    "start_time": "2023-01-04T10:53:27.753Z"
   },
   {
    "duration": 5,
    "start_time": "2023-01-04T10:53:35.262Z"
   },
   {
    "duration": 4,
    "start_time": "2023-01-04T10:53:57.041Z"
   },
   {
    "duration": 9,
    "start_time": "2023-01-04T10:54:07.337Z"
   },
   {
    "duration": 4,
    "start_time": "2023-01-04T10:54:09.746Z"
   },
   {
    "duration": 5,
    "start_time": "2023-01-04T10:54:10.452Z"
   },
   {
    "duration": 3,
    "start_time": "2023-01-04T11:05:59.935Z"
   },
   {
    "duration": 41,
    "start_time": "2023-01-04T11:06:17.427Z"
   },
   {
    "duration": 37,
    "start_time": "2023-01-04T11:06:37.257Z"
   },
   {
    "duration": 3,
    "start_time": "2023-01-04T11:06:48.407Z"
   },
   {
    "duration": 77,
    "start_time": "2023-01-04T11:06:48.413Z"
   },
   {
    "duration": 11,
    "start_time": "2023-01-04T11:06:48.492Z"
   },
   {
    "duration": 17,
    "start_time": "2023-01-04T11:06:48.505Z"
   },
   {
    "duration": 12,
    "start_time": "2023-01-04T11:06:48.524Z"
   },
   {
    "duration": 7,
    "start_time": "2023-01-04T11:06:48.538Z"
   },
   {
    "duration": 5,
    "start_time": "2023-01-04T11:06:48.547Z"
   },
   {
    "duration": 9,
    "start_time": "2023-01-04T11:06:48.554Z"
   },
   {
    "duration": 8,
    "start_time": "2023-01-04T11:06:48.565Z"
   },
   {
    "duration": 8,
    "start_time": "2023-01-04T11:06:48.575Z"
   },
   {
    "duration": 37,
    "start_time": "2023-01-04T11:06:48.585Z"
   },
   {
    "duration": 3,
    "start_time": "2023-01-04T11:06:48.624Z"
   },
   {
    "duration": 9,
    "start_time": "2023-01-04T11:06:48.629Z"
   },
   {
    "duration": 4,
    "start_time": "2023-01-04T11:06:48.641Z"
   },
   {
    "duration": 11,
    "start_time": "2023-01-04T11:06:48.647Z"
   },
   {
    "duration": 10,
    "start_time": "2023-01-04T11:06:48.659Z"
   },
   {
    "duration": 6,
    "start_time": "2023-01-04T11:06:48.670Z"
   },
   {
    "duration": 46,
    "start_time": "2023-01-04T11:06:48.677Z"
   },
   {
    "duration": 18,
    "start_time": "2023-01-04T11:06:48.725Z"
   },
   {
    "duration": 9,
    "start_time": "2023-01-04T11:06:48.745Z"
   },
   {
    "duration": 174,
    "start_time": "2023-01-04T11:06:48.756Z"
   },
   {
    "duration": 3,
    "start_time": "2023-01-04T11:06:48.932Z"
   },
   {
    "duration": 16,
    "start_time": "2023-01-04T11:06:48.937Z"
   },
   {
    "duration": 157,
    "start_time": "2023-01-04T11:06:48.955Z"
   },
   {
    "duration": 19,
    "start_time": "2023-01-04T11:06:49.114Z"
   },
   {
    "duration": 9,
    "start_time": "2023-01-04T11:06:49.135Z"
   },
   {
    "duration": 14,
    "start_time": "2023-01-04T11:06:49.146Z"
   },
   {
    "duration": 274,
    "start_time": "2023-01-04T11:06:49.163Z"
   },
   {
    "duration": 225,
    "start_time": "2023-01-04T11:06:49.439Z"
   },
   {
    "duration": 303,
    "start_time": "2023-01-04T11:06:49.666Z"
   },
   {
    "duration": 11,
    "start_time": "2023-01-04T11:06:49.971Z"
   },
   {
    "duration": 248,
    "start_time": "2023-01-04T11:06:49.984Z"
   },
   {
    "duration": 314,
    "start_time": "2023-01-04T11:06:50.234Z"
   },
   {
    "duration": 11,
    "start_time": "2023-01-04T11:06:50.550Z"
   },
   {
    "duration": 138,
    "start_time": "2023-01-04T11:06:50.563Z"
   },
   {
    "duration": 5,
    "start_time": "2023-01-04T11:06:50.704Z"
   },
   {
    "duration": 158,
    "start_time": "2023-01-04T11:06:50.711Z"
   },
   {
    "duration": 134,
    "start_time": "2023-01-04T11:06:50.871Z"
   },
   {
    "duration": 5,
    "start_time": "2023-01-04T11:06:51.007Z"
   },
   {
    "duration": 155,
    "start_time": "2023-01-04T11:06:51.022Z"
   },
   {
    "duration": 6,
    "start_time": "2023-01-04T11:06:51.180Z"
   },
   {
    "duration": 9,
    "start_time": "2023-01-04T11:06:51.187Z"
   },
   {
    "duration": 51,
    "start_time": "2023-01-04T11:06:51.197Z"
   },
   {
    "duration": 5,
    "start_time": "2023-01-04T11:06:51.249Z"
   },
   {
    "duration": 9,
    "start_time": "2023-01-04T11:06:51.255Z"
   },
   {
    "duration": 20,
    "start_time": "2023-01-04T11:06:51.266Z"
   },
   {
    "duration": 4,
    "start_time": "2023-01-04T11:06:51.287Z"
   },
   {
    "duration": 9,
    "start_time": "2023-01-04T11:06:51.292Z"
   },
   {
    "duration": 19,
    "start_time": "2023-01-04T11:06:51.303Z"
   },
   {
    "duration": 51,
    "start_time": "2023-01-04T11:08:19.945Z"
   },
   {
    "duration": 4,
    "start_time": "2023-01-04T11:23:10.325Z"
   },
   {
    "duration": 4,
    "start_time": "2023-01-04T11:23:10.970Z"
   },
   {
    "duration": 6,
    "start_time": "2023-01-04T11:23:16.073Z"
   },
   {
    "duration": 6,
    "start_time": "2023-01-04T11:23:30.065Z"
   },
   {
    "duration": 8,
    "start_time": "2023-01-04T11:24:23.664Z"
   },
   {
    "duration": 10,
    "start_time": "2023-01-04T11:25:01.479Z"
   },
   {
    "duration": 9,
    "start_time": "2023-01-04T11:25:09.232Z"
   },
   {
    "duration": 4,
    "start_time": "2023-01-04T11:28:42.688Z"
   },
   {
    "duration": 5,
    "start_time": "2023-01-04T11:28:51.768Z"
   },
   {
    "duration": 4,
    "start_time": "2023-01-04T11:29:22.579Z"
   },
   {
    "duration": 5,
    "start_time": "2023-01-04T11:29:24.417Z"
   },
   {
    "duration": 148,
    "start_time": "2023-01-04T12:52:30.451Z"
   },
   {
    "duration": 130,
    "start_time": "2023-01-04T12:52:45.266Z"
   },
   {
    "duration": 233,
    "start_time": "2023-01-04T12:53:02.933Z"
   },
   {
    "duration": 143,
    "start_time": "2023-01-04T12:53:08.730Z"
   },
   {
    "duration": 203,
    "start_time": "2023-01-04T12:53:14.068Z"
   },
   {
    "duration": 114,
    "start_time": "2023-01-04T12:55:07.886Z"
   },
   {
    "duration": 133,
    "start_time": "2023-01-04T12:57:08.301Z"
   },
   {
    "duration": 4,
    "start_time": "2023-01-04T13:10:30.733Z"
   },
   {
    "duration": 109,
    "start_time": "2023-01-04T13:10:30.740Z"
   },
   {
    "duration": 11,
    "start_time": "2023-01-04T13:10:30.851Z"
   },
   {
    "duration": 21,
    "start_time": "2023-01-04T13:10:30.865Z"
   },
   {
    "duration": 29,
    "start_time": "2023-01-04T13:10:30.888Z"
   },
   {
    "duration": 35,
    "start_time": "2023-01-04T13:10:30.919Z"
   },
   {
    "duration": 9,
    "start_time": "2023-01-04T13:10:30.956Z"
   },
   {
    "duration": 16,
    "start_time": "2023-01-04T13:10:30.967Z"
   },
   {
    "duration": 21,
    "start_time": "2023-01-04T13:10:30.984Z"
   },
   {
    "duration": 13,
    "start_time": "2023-01-04T13:10:31.008Z"
   },
   {
    "duration": 17,
    "start_time": "2023-01-04T13:10:31.031Z"
   },
   {
    "duration": 11,
    "start_time": "2023-01-04T13:10:31.049Z"
   },
   {
    "duration": 15,
    "start_time": "2023-01-04T13:10:31.062Z"
   },
   {
    "duration": 22,
    "start_time": "2023-01-04T13:10:31.079Z"
   },
   {
    "duration": 16,
    "start_time": "2023-01-04T13:10:31.103Z"
   },
   {
    "duration": 37,
    "start_time": "2023-01-04T13:10:31.121Z"
   },
   {
    "duration": 8,
    "start_time": "2023-01-04T13:10:31.160Z"
   },
   {
    "duration": 19,
    "start_time": "2023-01-04T13:10:31.169Z"
   },
   {
    "duration": 14,
    "start_time": "2023-01-04T13:10:31.190Z"
   },
   {
    "duration": 8,
    "start_time": "2023-01-04T13:10:31.206Z"
   },
   {
    "duration": 179,
    "start_time": "2023-01-04T13:10:31.215Z"
   },
   {
    "duration": 3,
    "start_time": "2023-01-04T13:10:31.396Z"
   },
   {
    "duration": 13,
    "start_time": "2023-01-04T13:10:31.401Z"
   },
   {
    "duration": 125,
    "start_time": "2023-01-04T13:10:31.433Z"
   },
   {
    "duration": 11,
    "start_time": "2023-01-04T13:10:31.560Z"
   },
   {
    "duration": 12,
    "start_time": "2023-01-04T13:10:31.572Z"
   },
   {
    "duration": 10,
    "start_time": "2023-01-04T13:10:31.586Z"
   },
   {
    "duration": 304,
    "start_time": "2023-01-04T13:10:31.601Z"
   },
   {
    "duration": 221,
    "start_time": "2023-01-04T13:10:31.906Z"
   },
   {
    "duration": 316,
    "start_time": "2023-01-04T13:10:32.129Z"
   },
   {
    "duration": 12,
    "start_time": "2023-01-04T13:10:32.447Z"
   },
   {
    "duration": 285,
    "start_time": "2023-01-04T13:10:32.462Z"
   },
   {
    "duration": 313,
    "start_time": "2023-01-04T13:10:32.748Z"
   },
   {
    "duration": 12,
    "start_time": "2023-01-04T13:10:33.063Z"
   },
   {
    "duration": 236,
    "start_time": "2023-01-04T13:10:33.077Z"
   },
   {
    "duration": 127,
    "start_time": "2023-01-04T13:10:33.315Z"
   },
   {
    "duration": 5,
    "start_time": "2023-01-04T13:10:33.444Z"
   },
   {
    "duration": 136,
    "start_time": "2023-01-04T13:10:33.450Z"
   },
   {
    "duration": 143,
    "start_time": "2023-01-04T13:10:33.588Z"
   },
   {
    "duration": 136,
    "start_time": "2023-01-04T13:10:33.732Z"
   },
   {
    "duration": 5,
    "start_time": "2023-01-04T13:10:33.870Z"
   },
   {
    "duration": 201,
    "start_time": "2023-01-04T13:10:33.877Z"
   },
   {
    "duration": 6,
    "start_time": "2023-01-04T13:10:34.080Z"
   },
   {
    "duration": 12,
    "start_time": "2023-01-04T13:10:34.087Z"
   },
   {
    "duration": 59,
    "start_time": "2023-01-04T13:10:34.101Z"
   },
   {
    "duration": 5,
    "start_time": "2023-01-04T13:10:34.162Z"
   },
   {
    "duration": 16,
    "start_time": "2023-01-04T13:10:34.169Z"
   },
   {
    "duration": 22,
    "start_time": "2023-01-04T13:10:34.187Z"
   },
   {
    "duration": 8,
    "start_time": "2023-01-04T13:10:34.211Z"
   },
   {
    "duration": 27,
    "start_time": "2023-01-04T13:10:34.221Z"
   },
   {
    "duration": 61,
    "start_time": "2023-01-04T13:10:34.250Z"
   },
   {
    "duration": 4,
    "start_time": "2023-01-04T13:10:34.313Z"
   },
   {
    "duration": 31,
    "start_time": "2023-01-04T13:10:34.319Z"
   },
   {
    "duration": 15,
    "start_time": "2023-01-04T13:10:34.353Z"
   },
   {
    "duration": 20,
    "start_time": "2023-01-04T13:11:00.221Z"
   },
   {
    "duration": 5,
    "start_time": "2023-01-04T14:06:04.102Z"
   },
   {
    "duration": 7,
    "start_time": "2023-01-04T14:24:14.111Z"
   },
   {
    "duration": 10,
    "start_time": "2023-01-04T14:25:35.562Z"
   },
   {
    "duration": 6,
    "start_time": "2023-01-04T14:25:35.925Z"
   },
   {
    "duration": 10,
    "start_time": "2023-01-04T14:28:45.392Z"
   },
   {
    "duration": 9,
    "start_time": "2023-01-04T14:28:51.813Z"
   },
   {
    "duration": 72,
    "start_time": "2023-01-04T14:29:20.459Z"
   },
   {
    "duration": 13,
    "start_time": "2023-01-04T14:29:45.261Z"
   },
   {
    "duration": 9,
    "start_time": "2023-01-04T14:29:52.188Z"
   },
   {
    "duration": 6,
    "start_time": "2023-01-04T14:30:50.131Z"
   },
   {
    "duration": 4,
    "start_time": "2023-01-04T14:35:36.222Z"
   },
   {
    "duration": 6,
    "start_time": "2023-01-04T14:36:01.800Z"
   },
   {
    "duration": 7,
    "start_time": "2023-01-04T14:39:37.363Z"
   },
   {
    "duration": 4,
    "start_time": "2023-01-04T14:40:42.581Z"
   },
   {
    "duration": 4,
    "start_time": "2023-01-04T14:40:53.605Z"
   },
   {
    "duration": 6,
    "start_time": "2023-01-04T14:44:14.189Z"
   },
   {
    "duration": 89,
    "start_time": "2023-01-04T14:44:14.209Z"
   },
   {
    "duration": 14,
    "start_time": "2023-01-04T14:44:14.301Z"
   },
   {
    "duration": 24,
    "start_time": "2023-01-04T14:44:14.318Z"
   },
   {
    "duration": 33,
    "start_time": "2023-01-04T14:44:14.344Z"
   },
   {
    "duration": 14,
    "start_time": "2023-01-04T14:44:14.379Z"
   },
   {
    "duration": 12,
    "start_time": "2023-01-04T14:44:14.395Z"
   },
   {
    "duration": 10,
    "start_time": "2023-01-04T14:44:14.409Z"
   },
   {
    "duration": 9,
    "start_time": "2023-01-04T14:44:14.421Z"
   },
   {
    "duration": 7,
    "start_time": "2023-01-04T14:44:14.431Z"
   },
   {
    "duration": 5,
    "start_time": "2023-01-04T14:44:14.440Z"
   },
   {
    "duration": 6,
    "start_time": "2023-01-04T14:44:14.446Z"
   },
   {
    "duration": 10,
    "start_time": "2023-01-04T14:44:14.453Z"
   },
   {
    "duration": 5,
    "start_time": "2023-01-04T14:44:14.465Z"
   },
   {
    "duration": 5,
    "start_time": "2023-01-04T14:44:14.473Z"
   },
   {
    "duration": 10,
    "start_time": "2023-01-04T14:44:14.479Z"
   },
   {
    "duration": 5,
    "start_time": "2023-01-04T14:44:14.523Z"
   },
   {
    "duration": 6,
    "start_time": "2023-01-04T14:44:14.530Z"
   },
   {
    "duration": 14,
    "start_time": "2023-01-04T14:44:14.538Z"
   },
   {
    "duration": 18,
    "start_time": "2023-01-04T14:44:14.555Z"
   },
   {
    "duration": 8,
    "start_time": "2023-01-04T14:44:14.575Z"
   },
   {
    "duration": 184,
    "start_time": "2023-01-04T14:44:14.584Z"
   },
   {
    "duration": 3,
    "start_time": "2023-01-04T14:44:14.770Z"
   },
   {
    "duration": 14,
    "start_time": "2023-01-04T14:44:14.774Z"
   },
   {
    "duration": 142,
    "start_time": "2023-01-04T14:44:14.789Z"
   },
   {
    "duration": 15,
    "start_time": "2023-01-04T14:44:14.936Z"
   },
   {
    "duration": 13,
    "start_time": "2023-01-04T14:44:14.954Z"
   },
   {
    "duration": 14,
    "start_time": "2023-01-04T14:44:14.968Z"
   },
   {
    "duration": 254,
    "start_time": "2023-01-04T14:44:14.984Z"
   },
   {
    "duration": 212,
    "start_time": "2023-01-04T14:44:15.239Z"
   },
   {
    "duration": 296,
    "start_time": "2023-01-04T14:44:15.452Z"
   },
   {
    "duration": 17,
    "start_time": "2023-01-04T14:44:15.750Z"
   },
   {
    "duration": 268,
    "start_time": "2023-01-04T14:44:15.769Z"
   },
   {
    "duration": 316,
    "start_time": "2023-01-04T14:44:16.038Z"
   },
   {
    "duration": 12,
    "start_time": "2023-01-04T14:44:16.355Z"
   },
   {
    "duration": 138,
    "start_time": "2023-01-04T14:44:16.369Z"
   },
   {
    "duration": 129,
    "start_time": "2023-01-04T14:44:16.509Z"
   },
   {
    "duration": 6,
    "start_time": "2023-01-04T14:44:16.640Z"
   },
   {
    "duration": 228,
    "start_time": "2023-01-04T14:44:16.648Z"
   },
   {
    "duration": 129,
    "start_time": "2023-01-04T14:44:16.878Z"
   },
   {
    "duration": 139,
    "start_time": "2023-01-04T14:44:17.009Z"
   },
   {
    "duration": 6,
    "start_time": "2023-01-04T14:44:17.152Z"
   },
   {
    "duration": 144,
    "start_time": "2023-01-04T14:44:17.159Z"
   },
   {
    "duration": 6,
    "start_time": "2023-01-04T14:44:17.304Z"
   },
   {
    "duration": 15,
    "start_time": "2023-01-04T14:44:17.312Z"
   },
   {
    "duration": 39,
    "start_time": "2023-01-04T14:44:17.328Z"
   },
   {
    "duration": 6,
    "start_time": "2023-01-04T14:44:17.369Z"
   },
   {
    "duration": 6,
    "start_time": "2023-01-04T14:44:17.377Z"
   },
   {
    "duration": 38,
    "start_time": "2023-01-04T14:44:17.385Z"
   },
   {
    "duration": 12,
    "start_time": "2023-01-04T14:44:17.425Z"
   },
   {
    "duration": 10,
    "start_time": "2023-01-04T14:44:17.439Z"
   },
   {
    "duration": 8,
    "start_time": "2023-01-04T14:44:17.452Z"
   },
   {
    "duration": 4,
    "start_time": "2023-01-04T14:44:32.376Z"
   },
   {
    "duration": 115,
    "start_time": "2023-01-04T14:58:44.828Z"
   },
   {
    "duration": 9,
    "start_time": "2023-01-04T15:05:07.884Z"
   },
   {
    "duration": 6,
    "start_time": "2023-01-04T15:05:16.312Z"
   },
   {
    "duration": 7,
    "start_time": "2023-01-04T15:05:16.968Z"
   },
   {
    "duration": 5,
    "start_time": "2023-01-04T15:05:17.484Z"
   },
   {
    "duration": 37,
    "start_time": "2023-01-04T15:05:25.251Z"
   },
   {
    "duration": 7,
    "start_time": "2023-01-04T15:07:18.930Z"
   },
   {
    "duration": 5,
    "start_time": "2023-01-04T15:09:48.833Z"
   },
   {
    "duration": 6,
    "start_time": "2023-01-04T15:09:49.516Z"
   },
   {
    "duration": 8,
    "start_time": "2023-01-04T15:09:50.972Z"
   },
   {
    "duration": 11,
    "start_time": "2023-01-04T15:11:13.885Z"
   },
   {
    "duration": 6,
    "start_time": "2023-01-04T15:11:51.612Z"
   },
   {
    "duration": 5,
    "start_time": "2023-01-04T15:11:59.294Z"
   },
   {
    "duration": 12,
    "start_time": "2023-01-04T15:12:05.397Z"
   },
   {
    "duration": 13,
    "start_time": "2023-01-04T15:13:35.169Z"
   },
   {
    "duration": 71,
    "start_time": "2023-01-04T15:14:26.232Z"
   },
   {
    "duration": 13,
    "start_time": "2023-01-04T15:14:38.646Z"
   },
   {
    "duration": 11,
    "start_time": "2023-01-04T15:15:52.035Z"
   },
   {
    "duration": 17,
    "start_time": "2023-01-04T15:16:14.798Z"
   },
   {
    "duration": 15,
    "start_time": "2023-01-04T15:16:25.202Z"
   },
   {
    "duration": 5,
    "start_time": "2023-01-04T15:17:54.372Z"
   },
   {
    "duration": 13,
    "start_time": "2023-01-04T15:18:19.777Z"
   },
   {
    "duration": 84,
    "start_time": "2023-01-04T15:19:06.478Z"
   },
   {
    "duration": 4,
    "start_time": "2023-01-04T15:19:09.959Z"
   },
   {
    "duration": 4,
    "start_time": "2023-01-04T15:19:23.885Z"
   },
   {
    "duration": 10,
    "start_time": "2023-01-04T15:20:03.473Z"
   },
   {
    "duration": 10,
    "start_time": "2023-01-04T15:20:57.607Z"
   },
   {
    "duration": 10,
    "start_time": "2023-01-04T15:21:06.208Z"
   },
   {
    "duration": 17,
    "start_time": "2023-01-04T15:21:24.758Z"
   },
   {
    "duration": 19,
    "start_time": "2023-01-04T15:21:31.825Z"
   },
   {
    "duration": 9,
    "start_time": "2023-01-04T15:21:49.396Z"
   },
   {
    "duration": 14,
    "start_time": "2023-01-04T15:22:09.275Z"
   },
   {
    "duration": 14,
    "start_time": "2023-01-04T15:22:44.447Z"
   },
   {
    "duration": 9,
    "start_time": "2023-01-04T15:22:55.940Z"
   },
   {
    "duration": 6,
    "start_time": "2023-01-04T15:23:43.864Z"
   },
   {
    "duration": 7,
    "start_time": "2023-01-04T15:23:52.311Z"
   },
   {
    "duration": 8,
    "start_time": "2023-01-04T15:24:11.732Z"
   },
   {
    "duration": 13,
    "start_time": "2023-01-04T15:25:24.473Z"
   },
   {
    "duration": 7,
    "start_time": "2023-01-04T15:25:35.908Z"
   },
   {
    "duration": 8,
    "start_time": "2023-01-04T15:25:41.338Z"
   },
   {
    "duration": 6,
    "start_time": "2023-01-04T15:26:30.287Z"
   },
   {
    "duration": 8,
    "start_time": "2023-01-04T15:32:01.933Z"
   },
   {
    "duration": 8,
    "start_time": "2023-01-04T15:35:48.980Z"
   },
   {
    "duration": 5,
    "start_time": "2023-01-04T15:39:04.647Z"
   },
   {
    "duration": 5,
    "start_time": "2023-01-04T15:39:12.352Z"
   },
   {
    "duration": 6,
    "start_time": "2023-01-04T15:42:03.640Z"
   },
   {
    "duration": 42,
    "start_time": "2023-01-04T15:43:05.663Z"
   },
   {
    "duration": 3,
    "start_time": "2023-01-04T15:50:40.716Z"
   },
   {
    "duration": 10,
    "start_time": "2023-01-04T15:50:41.457Z"
   },
   {
    "duration": 4,
    "start_time": "2023-01-04T15:51:11.280Z"
   },
   {
    "duration": 11,
    "start_time": "2023-01-04T15:51:14.249Z"
   },
   {
    "duration": 4,
    "start_time": "2023-01-04T15:51:23.578Z"
   },
   {
    "duration": 10,
    "start_time": "2023-01-04T15:51:26.266Z"
   },
   {
    "duration": 3,
    "start_time": "2023-01-04T15:52:59.935Z"
   },
   {
    "duration": 76,
    "start_time": "2023-01-04T15:52:59.940Z"
   },
   {
    "duration": 10,
    "start_time": "2023-01-04T15:53:00.018Z"
   },
   {
    "duration": 13,
    "start_time": "2023-01-04T15:53:00.029Z"
   },
   {
    "duration": 18,
    "start_time": "2023-01-04T15:53:00.044Z"
   },
   {
    "duration": 21,
    "start_time": "2023-01-04T15:53:00.063Z"
   },
   {
    "duration": 15,
    "start_time": "2023-01-04T15:53:00.086Z"
   },
   {
    "duration": 20,
    "start_time": "2023-01-04T15:53:00.103Z"
   },
   {
    "duration": 16,
    "start_time": "2023-01-04T15:53:00.125Z"
   },
   {
    "duration": 28,
    "start_time": "2023-01-04T15:53:00.142Z"
   },
   {
    "duration": 23,
    "start_time": "2023-01-04T15:53:00.171Z"
   },
   {
    "duration": 18,
    "start_time": "2023-01-04T15:53:00.195Z"
   },
   {
    "duration": 18,
    "start_time": "2023-01-04T15:53:00.215Z"
   },
   {
    "duration": 17,
    "start_time": "2023-01-04T15:53:00.237Z"
   },
   {
    "duration": 20,
    "start_time": "2023-01-04T15:53:00.255Z"
   },
   {
    "duration": 30,
    "start_time": "2023-01-04T15:53:00.276Z"
   },
   {
    "duration": 39,
    "start_time": "2023-01-04T15:53:00.308Z"
   },
   {
    "duration": 49,
    "start_time": "2023-01-04T15:53:00.348Z"
   },
   {
    "duration": 36,
    "start_time": "2023-01-04T15:53:00.399Z"
   },
   {
    "duration": 37,
    "start_time": "2023-01-04T15:53:00.437Z"
   },
   {
    "duration": 33,
    "start_time": "2023-01-04T15:53:00.476Z"
   },
   {
    "duration": 30,
    "start_time": "2023-01-04T15:53:00.511Z"
   },
   {
    "duration": 186,
    "start_time": "2023-01-04T15:53:00.542Z"
   },
   {
    "duration": 3,
    "start_time": "2023-01-04T15:53:00.730Z"
   },
   {
    "duration": 18,
    "start_time": "2023-01-04T15:53:00.734Z"
   },
   {
    "duration": 132,
    "start_time": "2023-01-04T15:53:00.755Z"
   },
   {
    "duration": 10,
    "start_time": "2023-01-04T15:53:00.889Z"
   },
   {
    "duration": 24,
    "start_time": "2023-01-04T15:53:00.901Z"
   },
   {
    "duration": 24,
    "start_time": "2023-01-04T15:53:00.927Z"
   },
   {
    "duration": 18,
    "start_time": "2023-01-04T15:53:00.953Z"
   },
   {
    "duration": 34,
    "start_time": "2023-01-04T15:53:00.973Z"
   },
   {
    "duration": 232,
    "start_time": "2023-01-04T15:53:01.009Z"
   },
   {
    "duration": 211,
    "start_time": "2023-01-04T15:53:01.243Z"
   },
   {
    "duration": 293,
    "start_time": "2023-01-04T15:53:01.456Z"
   },
   {
    "duration": 12,
    "start_time": "2023-01-04T15:53:01.751Z"
   },
   {
    "duration": 251,
    "start_time": "2023-01-04T15:53:01.765Z"
   },
   {
    "duration": 324,
    "start_time": "2023-01-04T15:53:02.018Z"
   },
   {
    "duration": 11,
    "start_time": "2023-01-04T15:53:02.344Z"
   },
   {
    "duration": 133,
    "start_time": "2023-01-04T15:53:02.357Z"
   },
   {
    "duration": 120,
    "start_time": "2023-01-04T15:53:02.492Z"
   },
   {
    "duration": 6,
    "start_time": "2023-01-04T15:53:02.621Z"
   },
   {
    "duration": 138,
    "start_time": "2023-01-04T15:53:02.629Z"
   },
   {
    "duration": 219,
    "start_time": "2023-01-04T15:53:02.769Z"
   },
   {
    "duration": 127,
    "start_time": "2023-01-04T15:53:02.990Z"
   },
   {
    "duration": 5,
    "start_time": "2023-01-04T15:53:03.122Z"
   },
   {
    "duration": 146,
    "start_time": "2023-01-04T15:53:03.129Z"
   },
   {
    "duration": 5,
    "start_time": "2023-01-04T15:53:03.277Z"
   },
   {
    "duration": 14,
    "start_time": "2023-01-04T15:53:03.283Z"
   },
   {
    "duration": 81,
    "start_time": "2023-01-04T15:53:03.299Z"
   },
   {
    "duration": 6,
    "start_time": "2023-01-04T15:53:03.382Z"
   },
   {
    "duration": 15,
    "start_time": "2023-01-04T15:53:03.389Z"
   },
   {
    "duration": 29,
    "start_time": "2023-01-04T15:53:03.405Z"
   },
   {
    "duration": 20,
    "start_time": "2023-01-04T15:53:03.435Z"
   },
   {
    "duration": 34,
    "start_time": "2023-01-04T15:53:03.456Z"
   },
   {
    "duration": 26,
    "start_time": "2023-01-04T15:53:03.492Z"
   },
   {
    "duration": 57,
    "start_time": "2023-01-04T15:53:03.520Z"
   },
   {
    "duration": 4,
    "start_time": "2023-01-04T15:53:03.579Z"
   },
   {
    "duration": 29,
    "start_time": "2023-01-04T15:53:03.584Z"
   },
   {
    "duration": 47,
    "start_time": "2023-01-04T15:53:03.615Z"
   }
  ],
  "kernelspec": {
   "display_name": "Python 3 (ipykernel)",
   "language": "python",
   "name": "python3"
  },
  "language_info": {
   "codemirror_mode": {
    "name": "ipython",
    "version": 3
   },
   "file_extension": ".py",
   "mimetype": "text/x-python",
   "name": "python",
   "nbconvert_exporter": "python",
   "pygments_lexer": "ipython3",
   "version": "3.9.5"
  },
  "toc": {
   "base_numbering": 1,
   "nav_menu": {},
   "number_sections": true,
   "sideBar": true,
   "skip_h1_title": true,
   "title_cell": "Table of Contents",
   "title_sidebar": "Contents",
   "toc_cell": false,
   "toc_position": {},
   "toc_section_display": true,
   "toc_window_display": false
  }
 },
 "nbformat": 4,
 "nbformat_minor": 2
}
