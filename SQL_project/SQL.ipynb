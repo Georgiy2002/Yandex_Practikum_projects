{
 "cells": [
  {
   "cell_type": "markdown",
   "metadata": {},
   "source": [
    "# Проект по SQL"
   ]
  },
  {
   "cell_type": "markdown",
   "metadata": {},
   "source": [
    "<b>Цель:</b> Анализ базы данных сервиса по чтнению книг\n",
    "\n",
    "<b> Задачи: </b>\n",
    "\n",
    "1) Посчитать, сколько книг вышло после 1 января 2000 года;\n",
    "\n",
    "2) Для каждой книги посчитать количество обзоров и среднюю оценку;\n",
    "\n",
    "3) Определить издательство, которое выпустило наибольшее число книг толще 50 страниц\n",
    "\n",
    "4) Определить автора с самой высокой средней оценкой книг\n",
    "\n",
    "5) Посчитать среднее количество обзоров от пользователей, которые поставили больше 50 оценок."
   ]
  },
  {
   "cell_type": "code",
   "execution_count": 1,
   "metadata": {},
   "outputs": [],
   "source": [
    "# импортируем библиотеки\n",
    "import pandas as pd\n",
    "from sqlalchemy import create_engine"
   ]
  },
  {
   "cell_type": "code",
   "execution_count": 2,
   "metadata": {},
   "outputs": [],
   "source": [
    "# устанавливаем параметры\n",
    "db_config =  # название базы данных #убрал конфиденциальные данные для подключения к базе данных\n",
    "\n",
    "connection_string = 'postgresql://{}:{}@{}:{}/{}'.format(db_config['user'], db_config['pwd'], db_config['host'],\\\n",
    "        db_config['port'], db_config['db']) \n",
    "engine = create_engine(connection_string, connect_args={'sslmode':'require'})"
   ]
  },
  {
   "cell_type": "markdown",
   "metadata": {},
   "source": [
    "## Исследование первых строк таблиц"
   ]
  },
  {
   "cell_type": "markdown",
   "metadata": {},
   "source": [
    "Таблица books"
   ]
  },
  {
   "cell_type": "code",
   "execution_count": 3,
   "metadata": {},
   "outputs": [],
   "source": [
    "query = 'SELECT * FROM books limit 5'"
   ]
  },
  {
   "cell_type": "code",
   "execution_count": 4,
   "metadata": {},
   "outputs": [
    {
     "data": {
      "text/html": [
       "<div>\n",
       "<style scoped>\n",
       "    .dataframe tbody tr th:only-of-type {\n",
       "        vertical-align: middle;\n",
       "    }\n",
       "\n",
       "    .dataframe tbody tr th {\n",
       "        vertical-align: top;\n",
       "    }\n",
       "\n",
       "    .dataframe thead th {\n",
       "        text-align: right;\n",
       "    }\n",
       "</style>\n",
       "<table border=\"1\" class=\"dataframe\">\n",
       "  <thead>\n",
       "    <tr style=\"text-align: right;\">\n",
       "      <th></th>\n",
       "      <th>book_id</th>\n",
       "      <th>author_id</th>\n",
       "      <th>title</th>\n",
       "      <th>num_pages</th>\n",
       "      <th>publication_date</th>\n",
       "      <th>publisher_id</th>\n",
       "    </tr>\n",
       "  </thead>\n",
       "  <tbody>\n",
       "    <tr>\n",
       "      <th>0</th>\n",
       "      <td>1</td>\n",
       "      <td>546</td>\n",
       "      <td>'Salem's Lot</td>\n",
       "      <td>594</td>\n",
       "      <td>2005-11-01</td>\n",
       "      <td>93</td>\n",
       "    </tr>\n",
       "    <tr>\n",
       "      <th>1</th>\n",
       "      <td>2</td>\n",
       "      <td>465</td>\n",
       "      <td>1 000 Places to See Before You Die</td>\n",
       "      <td>992</td>\n",
       "      <td>2003-05-22</td>\n",
       "      <td>336</td>\n",
       "    </tr>\n",
       "    <tr>\n",
       "      <th>2</th>\n",
       "      <td>3</td>\n",
       "      <td>407</td>\n",
       "      <td>13 Little Blue Envelopes (Little Blue Envelope...</td>\n",
       "      <td>322</td>\n",
       "      <td>2010-12-21</td>\n",
       "      <td>135</td>\n",
       "    </tr>\n",
       "    <tr>\n",
       "      <th>3</th>\n",
       "      <td>4</td>\n",
       "      <td>82</td>\n",
       "      <td>1491: New Revelations of the Americas Before C...</td>\n",
       "      <td>541</td>\n",
       "      <td>2006-10-10</td>\n",
       "      <td>309</td>\n",
       "    </tr>\n",
       "    <tr>\n",
       "      <th>4</th>\n",
       "      <td>5</td>\n",
       "      <td>125</td>\n",
       "      <td>1776</td>\n",
       "      <td>386</td>\n",
       "      <td>2006-07-04</td>\n",
       "      <td>268</td>\n",
       "    </tr>\n",
       "  </tbody>\n",
       "</table>\n",
       "</div>"
      ],
      "text/plain": [
       "   book_id  author_id                                              title  \\\n",
       "0        1        546                                       'Salem's Lot   \n",
       "1        2        465                 1 000 Places to See Before You Die   \n",
       "2        3        407  13 Little Blue Envelopes (Little Blue Envelope...   \n",
       "3        4         82  1491: New Revelations of the Americas Before C...   \n",
       "4        5        125                                               1776   \n",
       "\n",
       "   num_pages publication_date  publisher_id  \n",
       "0        594       2005-11-01            93  \n",
       "1        992       2003-05-22           336  \n",
       "2        322       2010-12-21           135  \n",
       "3        541       2006-10-10           309  \n",
       "4        386       2006-07-04           268  "
      ]
     },
     "execution_count": 4,
     "metadata": {},
     "output_type": "execute_result"
    }
   ],
   "source": [
    "pd.io.sql.read_sql(query, con = engine)"
   ]
  },
  {
   "cell_type": "markdown",
   "metadata": {},
   "source": [
    "Таблица authors"
   ]
  },
  {
   "cell_type": "code",
   "execution_count": 5,
   "metadata": {},
   "outputs": [
    {
     "data": {
      "text/html": [
       "<div>\n",
       "<style scoped>\n",
       "    .dataframe tbody tr th:only-of-type {\n",
       "        vertical-align: middle;\n",
       "    }\n",
       "\n",
       "    .dataframe tbody tr th {\n",
       "        vertical-align: top;\n",
       "    }\n",
       "\n",
       "    .dataframe thead th {\n",
       "        text-align: right;\n",
       "    }\n",
       "</style>\n",
       "<table border=\"1\" class=\"dataframe\">\n",
       "  <thead>\n",
       "    <tr style=\"text-align: right;\">\n",
       "      <th></th>\n",
       "      <th>author_id</th>\n",
       "      <th>author</th>\n",
       "    </tr>\n",
       "  </thead>\n",
       "  <tbody>\n",
       "    <tr>\n",
       "      <th>0</th>\n",
       "      <td>1</td>\n",
       "      <td>A.S. Byatt</td>\n",
       "    </tr>\n",
       "    <tr>\n",
       "      <th>1</th>\n",
       "      <td>2</td>\n",
       "      <td>Aesop/Laura Harris/Laura Gibbs</td>\n",
       "    </tr>\n",
       "    <tr>\n",
       "      <th>2</th>\n",
       "      <td>3</td>\n",
       "      <td>Agatha Christie</td>\n",
       "    </tr>\n",
       "    <tr>\n",
       "      <th>3</th>\n",
       "      <td>4</td>\n",
       "      <td>Alan Brennert</td>\n",
       "    </tr>\n",
       "    <tr>\n",
       "      <th>4</th>\n",
       "      <td>5</td>\n",
       "      <td>Alan Moore/David   Lloyd</td>\n",
       "    </tr>\n",
       "  </tbody>\n",
       "</table>\n",
       "</div>"
      ],
      "text/plain": [
       "   author_id                          author\n",
       "0          1                      A.S. Byatt\n",
       "1          2  Aesop/Laura Harris/Laura Gibbs\n",
       "2          3                 Agatha Christie\n",
       "3          4                   Alan Brennert\n",
       "4          5        Alan Moore/David   Lloyd"
      ]
     },
     "execution_count": 5,
     "metadata": {},
     "output_type": "execute_result"
    }
   ],
   "source": [
    "query = 'SELECT * FROM authors limit 5'\n",
    "pd.io.sql.read_sql(query, con = engine)"
   ]
  },
  {
   "cell_type": "markdown",
   "metadata": {},
   "source": [
    "Таблица publishers"
   ]
  },
  {
   "cell_type": "code",
   "execution_count": 6,
   "metadata": {},
   "outputs": [
    {
     "data": {
      "text/html": [
       "<div>\n",
       "<style scoped>\n",
       "    .dataframe tbody tr th:only-of-type {\n",
       "        vertical-align: middle;\n",
       "    }\n",
       "\n",
       "    .dataframe tbody tr th {\n",
       "        vertical-align: top;\n",
       "    }\n",
       "\n",
       "    .dataframe thead th {\n",
       "        text-align: right;\n",
       "    }\n",
       "</style>\n",
       "<table border=\"1\" class=\"dataframe\">\n",
       "  <thead>\n",
       "    <tr style=\"text-align: right;\">\n",
       "      <th></th>\n",
       "      <th>publisher_id</th>\n",
       "      <th>publisher</th>\n",
       "    </tr>\n",
       "  </thead>\n",
       "  <tbody>\n",
       "    <tr>\n",
       "      <th>0</th>\n",
       "      <td>1</td>\n",
       "      <td>Ace</td>\n",
       "    </tr>\n",
       "    <tr>\n",
       "      <th>1</th>\n",
       "      <td>2</td>\n",
       "      <td>Ace Book</td>\n",
       "    </tr>\n",
       "    <tr>\n",
       "      <th>2</th>\n",
       "      <td>3</td>\n",
       "      <td>Ace Books</td>\n",
       "    </tr>\n",
       "    <tr>\n",
       "      <th>3</th>\n",
       "      <td>4</td>\n",
       "      <td>Ace Hardcover</td>\n",
       "    </tr>\n",
       "    <tr>\n",
       "      <th>4</th>\n",
       "      <td>5</td>\n",
       "      <td>Addison Wesley Publishing Company</td>\n",
       "    </tr>\n",
       "  </tbody>\n",
       "</table>\n",
       "</div>"
      ],
      "text/plain": [
       "   publisher_id                          publisher\n",
       "0             1                                Ace\n",
       "1             2                           Ace Book\n",
       "2             3                          Ace Books\n",
       "3             4                      Ace Hardcover\n",
       "4             5  Addison Wesley Publishing Company"
      ]
     },
     "execution_count": 6,
     "metadata": {},
     "output_type": "execute_result"
    }
   ],
   "source": [
    "query = 'SELECT * FROM publishers limit 5'\n",
    "pd.io.sql.read_sql(query, con = engine)"
   ]
  },
  {
   "cell_type": "markdown",
   "metadata": {},
   "source": [
    "Таблица ratings"
   ]
  },
  {
   "cell_type": "code",
   "execution_count": 7,
   "metadata": {},
   "outputs": [
    {
     "data": {
      "text/html": [
       "<div>\n",
       "<style scoped>\n",
       "    .dataframe tbody tr th:only-of-type {\n",
       "        vertical-align: middle;\n",
       "    }\n",
       "\n",
       "    .dataframe tbody tr th {\n",
       "        vertical-align: top;\n",
       "    }\n",
       "\n",
       "    .dataframe thead th {\n",
       "        text-align: right;\n",
       "    }\n",
       "</style>\n",
       "<table border=\"1\" class=\"dataframe\">\n",
       "  <thead>\n",
       "    <tr style=\"text-align: right;\">\n",
       "      <th></th>\n",
       "      <th>rating_id</th>\n",
       "      <th>book_id</th>\n",
       "      <th>username</th>\n",
       "      <th>rating</th>\n",
       "    </tr>\n",
       "  </thead>\n",
       "  <tbody>\n",
       "    <tr>\n",
       "      <th>0</th>\n",
       "      <td>1</td>\n",
       "      <td>1</td>\n",
       "      <td>ryanfranco</td>\n",
       "      <td>4</td>\n",
       "    </tr>\n",
       "    <tr>\n",
       "      <th>1</th>\n",
       "      <td>2</td>\n",
       "      <td>1</td>\n",
       "      <td>grantpatricia</td>\n",
       "      <td>2</td>\n",
       "    </tr>\n",
       "    <tr>\n",
       "      <th>2</th>\n",
       "      <td>3</td>\n",
       "      <td>1</td>\n",
       "      <td>brandtandrea</td>\n",
       "      <td>5</td>\n",
       "    </tr>\n",
       "    <tr>\n",
       "      <th>3</th>\n",
       "      <td>4</td>\n",
       "      <td>2</td>\n",
       "      <td>lorichen</td>\n",
       "      <td>3</td>\n",
       "    </tr>\n",
       "    <tr>\n",
       "      <th>4</th>\n",
       "      <td>5</td>\n",
       "      <td>2</td>\n",
       "      <td>mariokeller</td>\n",
       "      <td>2</td>\n",
       "    </tr>\n",
       "  </tbody>\n",
       "</table>\n",
       "</div>"
      ],
      "text/plain": [
       "   rating_id  book_id       username  rating\n",
       "0          1        1     ryanfranco       4\n",
       "1          2        1  grantpatricia       2\n",
       "2          3        1   brandtandrea       5\n",
       "3          4        2       lorichen       3\n",
       "4          5        2    mariokeller       2"
      ]
     },
     "execution_count": 7,
     "metadata": {},
     "output_type": "execute_result"
    }
   ],
   "source": [
    "query = 'SELECT * FROM ratings limit 5'\n",
    "pd.io.sql.read_sql(query, con = engine)"
   ]
  },
  {
   "cell_type": "markdown",
   "metadata": {},
   "source": [
    "Таблица reviews"
   ]
  },
  {
   "cell_type": "code",
   "execution_count": 8,
   "metadata": {},
   "outputs": [
    {
     "data": {
      "text/html": [
       "<div>\n",
       "<style scoped>\n",
       "    .dataframe tbody tr th:only-of-type {\n",
       "        vertical-align: middle;\n",
       "    }\n",
       "\n",
       "    .dataframe tbody tr th {\n",
       "        vertical-align: top;\n",
       "    }\n",
       "\n",
       "    .dataframe thead th {\n",
       "        text-align: right;\n",
       "    }\n",
       "</style>\n",
       "<table border=\"1\" class=\"dataframe\">\n",
       "  <thead>\n",
       "    <tr style=\"text-align: right;\">\n",
       "      <th></th>\n",
       "      <th>review_id</th>\n",
       "      <th>book_id</th>\n",
       "      <th>username</th>\n",
       "      <th>text</th>\n",
       "    </tr>\n",
       "  </thead>\n",
       "  <tbody>\n",
       "    <tr>\n",
       "      <th>0</th>\n",
       "      <td>1</td>\n",
       "      <td>1</td>\n",
       "      <td>brandtandrea</td>\n",
       "      <td>Mention society tell send professor analysis. ...</td>\n",
       "    </tr>\n",
       "    <tr>\n",
       "      <th>1</th>\n",
       "      <td>2</td>\n",
       "      <td>1</td>\n",
       "      <td>ryanfranco</td>\n",
       "      <td>Foot glass pretty audience hit themselves. Amo...</td>\n",
       "    </tr>\n",
       "    <tr>\n",
       "      <th>2</th>\n",
       "      <td>3</td>\n",
       "      <td>2</td>\n",
       "      <td>lorichen</td>\n",
       "      <td>Listen treat keep worry. Miss husband tax but ...</td>\n",
       "    </tr>\n",
       "    <tr>\n",
       "      <th>3</th>\n",
       "      <td>4</td>\n",
       "      <td>3</td>\n",
       "      <td>johnsonamanda</td>\n",
       "      <td>Finally month interesting blue could nature cu...</td>\n",
       "    </tr>\n",
       "    <tr>\n",
       "      <th>4</th>\n",
       "      <td>5</td>\n",
       "      <td>3</td>\n",
       "      <td>scotttamara</td>\n",
       "      <td>Nation purpose heavy give wait song will. List...</td>\n",
       "    </tr>\n",
       "  </tbody>\n",
       "</table>\n",
       "</div>"
      ],
      "text/plain": [
       "   review_id  book_id       username  \\\n",
       "0          1        1   brandtandrea   \n",
       "1          2        1     ryanfranco   \n",
       "2          3        2       lorichen   \n",
       "3          4        3  johnsonamanda   \n",
       "4          5        3    scotttamara   \n",
       "\n",
       "                                                text  \n",
       "0  Mention society tell send professor analysis. ...  \n",
       "1  Foot glass pretty audience hit themselves. Amo...  \n",
       "2  Listen treat keep worry. Miss husband tax but ...  \n",
       "3  Finally month interesting blue could nature cu...  \n",
       "4  Nation purpose heavy give wait song will. List...  "
      ]
     },
     "execution_count": 8,
     "metadata": {},
     "output_type": "execute_result"
    }
   ],
   "source": [
    "query = 'SELECT * FROM reviews limit 5'\n",
    "pd.io.sql.read_sql(query, con = engine)"
   ]
  },
  {
   "cell_type": "markdown",
   "metadata": {},
   "source": [
    "## Выполнение задач"
   ]
  },
  {
   "cell_type": "markdown",
   "metadata": {},
   "source": [
    "### Посчитаем, сколько книг вышло после 1 января 2000 года;"
   ]
  },
  {
   "cell_type": "code",
   "execution_count": 9,
   "metadata": {},
   "outputs": [
    {
     "data": {
      "text/html": [
       "<div>\n",
       "<style scoped>\n",
       "    .dataframe tbody tr th:only-of-type {\n",
       "        vertical-align: middle;\n",
       "    }\n",
       "\n",
       "    .dataframe tbody tr th {\n",
       "        vertical-align: top;\n",
       "    }\n",
       "\n",
       "    .dataframe thead th {\n",
       "        text-align: right;\n",
       "    }\n",
       "</style>\n",
       "<table border=\"1\" class=\"dataframe\">\n",
       "  <thead>\n",
       "    <tr style=\"text-align: right;\">\n",
       "      <th></th>\n",
       "      <th>count</th>\n",
       "    </tr>\n",
       "  </thead>\n",
       "  <tbody>\n",
       "    <tr>\n",
       "      <th>0</th>\n",
       "      <td>819</td>\n",
       "    </tr>\n",
       "  </tbody>\n",
       "</table>\n",
       "</div>"
      ],
      "text/plain": [
       "   count\n",
       "0    819"
      ]
     },
     "execution_count": 9,
     "metadata": {},
     "output_type": "execute_result"
    }
   ],
   "source": [
    "query = \"\"\"\n",
    "    SELECT Count(book_id) FROM books \n",
    "    WHERE publication_date>'2000-01-01'\"\"\"\n",
    "pd.io.sql.read_sql(query, con = engine)"
   ]
  },
  {
   "cell_type": "markdown",
   "metadata": {},
   "source": [
    "819 книг вышло после 1 января 2000 года"
   ]
  },
  {
   "cell_type": "markdown",
   "metadata": {},
   "source": [
    "###  Для каждой книги посчитаем количество обзоров и среднюю оценку"
   ]
  },
  {
   "cell_type": "code",
   "execution_count": 10,
   "metadata": {},
   "outputs": [
    {
     "data": {
      "text/html": [
       "<div>\n",
       "<style scoped>\n",
       "    .dataframe tbody tr th:only-of-type {\n",
       "        vertical-align: middle;\n",
       "    }\n",
       "\n",
       "    .dataframe tbody tr th {\n",
       "        vertical-align: top;\n",
       "    }\n",
       "\n",
       "    .dataframe thead th {\n",
       "        text-align: right;\n",
       "    }\n",
       "</style>\n",
       "<table border=\"1\" class=\"dataframe\">\n",
       "  <thead>\n",
       "    <tr style=\"text-align: right;\">\n",
       "      <th></th>\n",
       "      <th>title_of_book</th>\n",
       "      <th>count_reviews</th>\n",
       "      <th>average_mark</th>\n",
       "    </tr>\n",
       "  </thead>\n",
       "  <tbody>\n",
       "    <tr>\n",
       "      <th>0</th>\n",
       "      <td>A Dirty Job (Grim Reaper  #1)</td>\n",
       "      <td>4</td>\n",
       "      <td>5.00</td>\n",
       "    </tr>\n",
       "    <tr>\n",
       "      <th>1</th>\n",
       "      <td>School's Out—Forever (Maximum Ride  #2)</td>\n",
       "      <td>3</td>\n",
       "      <td>5.00</td>\n",
       "    </tr>\n",
       "    <tr>\n",
       "      <th>2</th>\n",
       "      <td>Moneyball: The Art of Winning an Unfair Game</td>\n",
       "      <td>3</td>\n",
       "      <td>5.00</td>\n",
       "    </tr>\n",
       "    <tr>\n",
       "      <th>3</th>\n",
       "      <td>The Big Bad Wolf  (Alex Cross  #9)</td>\n",
       "      <td>2</td>\n",
       "      <td>5.00</td>\n",
       "    </tr>\n",
       "    <tr>\n",
       "      <th>4</th>\n",
       "      <td>Welcome to Temptation (Dempseys  #1)</td>\n",
       "      <td>2</td>\n",
       "      <td>5.00</td>\n",
       "    </tr>\n",
       "    <tr>\n",
       "      <th>...</th>\n",
       "      <td>...</td>\n",
       "      <td>...</td>\n",
       "      <td>...</td>\n",
       "    </tr>\n",
       "    <tr>\n",
       "      <th>995</th>\n",
       "      <td>The World Is Flat: A Brief History of the Twen...</td>\n",
       "      <td>3</td>\n",
       "      <td>2.25</td>\n",
       "    </tr>\n",
       "    <tr>\n",
       "      <th>996</th>\n",
       "      <td>Drowning Ruth</td>\n",
       "      <td>3</td>\n",
       "      <td>2.00</td>\n",
       "    </tr>\n",
       "    <tr>\n",
       "      <th>997</th>\n",
       "      <td>His Excellency: George Washington</td>\n",
       "      <td>2</td>\n",
       "      <td>2.00</td>\n",
       "    </tr>\n",
       "    <tr>\n",
       "      <th>998</th>\n",
       "      <td>Junky</td>\n",
       "      <td>2</td>\n",
       "      <td>2.00</td>\n",
       "    </tr>\n",
       "    <tr>\n",
       "      <th>999</th>\n",
       "      <td>Harvesting the Heart</td>\n",
       "      <td>2</td>\n",
       "      <td>1.50</td>\n",
       "    </tr>\n",
       "  </tbody>\n",
       "</table>\n",
       "<p>1000 rows × 3 columns</p>\n",
       "</div>"
      ],
      "text/plain": [
       "                                         title_of_book  count_reviews  \\\n",
       "0                        A Dirty Job (Grim Reaper  #1)              4   \n",
       "1              School's Out—Forever (Maximum Ride  #2)              3   \n",
       "2         Moneyball: The Art of Winning an Unfair Game              3   \n",
       "3                   The Big Bad Wolf  (Alex Cross  #9)              2   \n",
       "4                 Welcome to Temptation (Dempseys  #1)              2   \n",
       "..                                                 ...            ...   \n",
       "995  The World Is Flat: A Brief History of the Twen...              3   \n",
       "996                                      Drowning Ruth              3   \n",
       "997                  His Excellency: George Washington              2   \n",
       "998                                              Junky              2   \n",
       "999                               Harvesting the Heart              2   \n",
       "\n",
       "     average_mark  \n",
       "0            5.00  \n",
       "1            5.00  \n",
       "2            5.00  \n",
       "3            5.00  \n",
       "4            5.00  \n",
       "..            ...  \n",
       "995          2.25  \n",
       "996          2.00  \n",
       "997          2.00  \n",
       "998          2.00  \n",
       "999          1.50  \n",
       "\n",
       "[1000 rows x 3 columns]"
      ]
     },
     "execution_count": 10,
     "metadata": {},
     "output_type": "execute_result"
    }
   ],
   "source": [
    "query = \"\"\"\n",
    "    SELECT b.title title_of_book, Count(distinct(review_id)) count_reviews, ROUND(AVG(rating),2) average_mark\n",
    "    FROM  reviews as r\n",
    "    RIGHT JOIN books b ON r.book_id =b.book_id\n",
    "    RIGHT JOIN ratings rat ON rat.book_id =b.book_id\n",
    "    GROUP BY b.book_id\n",
    "    ORDER BY average_mark DESC, count_reviews DESC\n",
    "\"\"\"\n",
    "pd.io.sql.read_sql(query, con = engine)"
   ]
  },
  {
   "cell_type": "markdown",
   "metadata": {},
   "source": [
    "###  Определим издательство, которое выпустило наибольшее число книг толще 50 страниц"
   ]
  },
  {
   "cell_type": "code",
   "execution_count": 11,
   "metadata": {},
   "outputs": [
    {
     "data": {
      "text/html": [
       "<div>\n",
       "<style scoped>\n",
       "    .dataframe tbody tr th:only-of-type {\n",
       "        vertical-align: middle;\n",
       "    }\n",
       "\n",
       "    .dataframe tbody tr th {\n",
       "        vertical-align: top;\n",
       "    }\n",
       "\n",
       "    .dataframe thead th {\n",
       "        text-align: right;\n",
       "    }\n",
       "</style>\n",
       "<table border=\"1\" class=\"dataframe\">\n",
       "  <thead>\n",
       "    <tr style=\"text-align: right;\">\n",
       "      <th></th>\n",
       "      <th>publisher</th>\n",
       "      <th>count_of_books</th>\n",
       "    </tr>\n",
       "  </thead>\n",
       "  <tbody>\n",
       "    <tr>\n",
       "      <th>0</th>\n",
       "      <td>Penguin Books</td>\n",
       "      <td>42</td>\n",
       "    </tr>\n",
       "  </tbody>\n",
       "</table>\n",
       "</div>"
      ],
      "text/plain": [
       "       publisher  count_of_books\n",
       "0  Penguin Books              42"
      ]
     },
     "execution_count": 11,
     "metadata": {},
     "output_type": "execute_result"
    }
   ],
   "source": [
    "query = \"\"\"\n",
    "    SELECT publisher, COUNT(book_id) count_of_books\n",
    "    FROM  publishers p\n",
    "    JOIN books b ON b.publisher_id=p.publisher_id\n",
    "    WHERE num_pages > 50\n",
    "    GROUP BY publisher\n",
    "    ORDER BY COUNT(book_id) DESC\n",
    "    LIMIT 1\n",
    "\"\"\"\n",
    "pd.io.sql.read_sql(query, con = engine)"
   ]
  },
  {
   "cell_type": "markdown",
   "metadata": {},
   "source": [
    "Издательство, выпустившее наибольшее число книг толще 50 страниц, - Penguin Books\t"
   ]
  },
  {
   "cell_type": "markdown",
   "metadata": {},
   "source": [
    "### Определим автора с самой высокой средней оценкой книг — учитываем только книги с 50 и более оценками;"
   ]
  },
  {
   "cell_type": "code",
   "execution_count": 12,
   "metadata": {},
   "outputs": [
    {
     "data": {
      "text/html": [
       "<div>\n",
       "<style scoped>\n",
       "    .dataframe tbody tr th:only-of-type {\n",
       "        vertical-align: middle;\n",
       "    }\n",
       "\n",
       "    .dataframe tbody tr th {\n",
       "        vertical-align: top;\n",
       "    }\n",
       "\n",
       "    .dataframe thead th {\n",
       "        text-align: right;\n",
       "    }\n",
       "</style>\n",
       "<table border=\"1\" class=\"dataframe\">\n",
       "  <thead>\n",
       "    <tr style=\"text-align: right;\">\n",
       "      <th></th>\n",
       "      <th>author</th>\n",
       "      <th>average_mark</th>\n",
       "    </tr>\n",
       "  </thead>\n",
       "  <tbody>\n",
       "    <tr>\n",
       "      <th>0</th>\n",
       "      <td>J.K. Rowling/Mary GrandPré</td>\n",
       "      <td>4.283844</td>\n",
       "    </tr>\n",
       "  </tbody>\n",
       "</table>\n",
       "</div>"
      ],
      "text/plain": [
       "                       author  average_mark\n",
       "0  J.K. Rowling/Mary GrandPré      4.283844"
      ]
     },
     "execution_count": 12,
     "metadata": {},
     "output_type": "execute_result"
    }
   ],
   "source": [
    "query = \"\"\"\n",
    "    SELECT tabl.author, AVG(tabl.average_mark) average_mark\n",
    "    FROM (SELECT author, title, COUNT(rating) count_marks, AVG(rating) average_mark\n",
    "        FROM  authors a\n",
    "        JOIN books b ON a.author_id=b.author_id\n",
    "        JOIN ratings r ON r.book_id=b.book_id\n",
    "        GROUP BY author, title\n",
    "        HAVING COUNT(rating)>=50) as tabl\n",
    "    GROUP BY author\n",
    "    ORDER BY average_mark DESC\n",
    "    LIMIT 1\n",
    "\"\"\"\n",
    "pd.io.sql.read_sql(query, con = engine)"
   ]
  },
  {
   "cell_type": "markdown",
   "metadata": {},
   "source": [
    "Авторы с наиболее высокой средней оценкой книг - J.K. Rowling/Mary GrandPré "
   ]
  },
  {
   "cell_type": "markdown",
   "metadata": {},
   "source": [
    "### Посчитаем среднее количество обзоров от пользователей, которые поставили больше 50 оценок."
   ]
  },
  {
   "cell_type": "code",
   "execution_count": 13,
   "metadata": {},
   "outputs": [
    {
     "data": {
      "text/html": [
       "<div>\n",
       "<style scoped>\n",
       "    .dataframe tbody tr th:only-of-type {\n",
       "        vertical-align: middle;\n",
       "    }\n",
       "\n",
       "    .dataframe tbody tr th {\n",
       "        vertical-align: top;\n",
       "    }\n",
       "\n",
       "    .dataframe thead th {\n",
       "        text-align: right;\n",
       "    }\n",
       "</style>\n",
       "<table border=\"1\" class=\"dataframe\">\n",
       "  <thead>\n",
       "    <tr style=\"text-align: right;\">\n",
       "      <th></th>\n",
       "      <th>avg</th>\n",
       "    </tr>\n",
       "  </thead>\n",
       "  <tbody>\n",
       "    <tr>\n",
       "      <th>0</th>\n",
       "      <td>24.333333</td>\n",
       "    </tr>\n",
       "  </tbody>\n",
       "</table>\n",
       "</div>"
      ],
      "text/plain": [
       "         avg\n",
       "0  24.333333"
      ]
     },
     "execution_count": 13,
     "metadata": {},
     "output_type": "execute_result"
    }
   ],
   "source": [
    "query = \"\"\"\n",
    "    SELECT AVG(count_reviews)\n",
    "    FROM\n",
    "    (SELECT r.username, COUNT(review_id) count_reviews\n",
    "    FROM reviews r\n",
    "    JOIN \n",
    "    (SELECT username\n",
    "    FROM ratings\n",
    "    GROUP BY username\n",
    "    HAVING COUNT(rating_id)>50) as t ON r.username = t.username\n",
    "    GROUP BY r.username) as g\n",
    "    \n",
    "\"\"\"\n",
    "pd.io.sql.read_sql(query, con = engine)"
   ]
  },
  {
   "cell_type": "markdown",
   "metadata": {},
   "source": [
    "Около 24 обзоров оставили пользователи, которые поставили больше 50 оценок"
   ]
  },
  {
   "cell_type": "markdown",
   "metadata": {},
   "source": [
    "<b> Выводы: </b>\n",
    "\n",
    "1) 819 книг вышло после 1 января 2000 года\n",
    "\n",
    "2) для каждой книги посчитали количество обзоров и среднюю оценку\n",
    "\n",
    "3) Penguin Books - издательство, выпустившее наибольшее число книг толще 50 страниц\n",
    "\n",
    "4) J.K. Rowling/Mary GrandPré - авторы с наиболее высокой средней оценкой книг\n",
    "\n",
    "5) Около 24 обзоров оставили пользователи, которые поставили больше 50 оценок"
   ]
  }
 ],
 "metadata": {
  "ExecuteTimeLog": [
   {
    "duration": 393,
    "start_time": "2023-03-21T07:53:47.592Z"
   },
   {
    "duration": 19257,
    "start_time": "2023-03-21T07:54:02.235Z"
   },
   {
    "duration": 2,
    "start_time": "2023-03-21T07:54:37.391Z"
   },
   {
    "duration": 92,
    "start_time": "2023-03-21T07:55:25.111Z"
   },
   {
    "duration": 8,
    "start_time": "2023-03-21T07:56:00.953Z"
   },
   {
    "duration": 4,
    "start_time": "2023-03-21T07:56:15.425Z"
   },
   {
    "duration": 10,
    "start_time": "2023-03-21T07:56:22.396Z"
   },
   {
    "duration": 10,
    "start_time": "2023-03-21T07:56:41.000Z"
   },
   {
    "duration": 2,
    "start_time": "2023-03-21T07:57:11.952Z"
   },
   {
    "duration": 380,
    "start_time": "2023-03-21T07:57:13.201Z"
   },
   {
    "duration": 4,
    "start_time": "2023-03-21T07:57:41.904Z"
   },
   {
    "duration": 3,
    "start_time": "2023-03-21T07:57:43.248Z"
   },
   {
    "duration": 378,
    "start_time": "2023-03-21T07:57:43.727Z"
   },
   {
    "duration": 4,
    "start_time": "2023-03-21T08:34:24.198Z"
   },
   {
    "duration": 118,
    "start_time": "2023-03-21T08:34:25.349Z"
   },
   {
    "duration": 79,
    "start_time": "2023-03-21T08:35:31.510Z"
   },
   {
    "duration": 82,
    "start_time": "2023-03-21T08:36:05.284Z"
   },
   {
    "duration": 77,
    "start_time": "2023-03-21T08:36:36.057Z"
   },
   {
    "duration": 90,
    "start_time": "2023-03-21T08:37:35.340Z"
   },
   {
    "duration": 119,
    "start_time": "2023-03-21T09:29:15.133Z"
   },
   {
    "duration": 187,
    "start_time": "2023-03-21T09:30:59.815Z"
   },
   {
    "duration": 197,
    "start_time": "2023-03-21T09:31:10.652Z"
   },
   {
    "duration": 165,
    "start_time": "2023-03-21T09:31:35.590Z"
   },
   {
    "duration": 103,
    "start_time": "2023-03-21T09:31:45.152Z"
   },
   {
    "duration": 80,
    "start_time": "2023-03-21T09:32:01.007Z"
   },
   {
    "duration": 633,
    "start_time": "2023-03-21T09:37:10.830Z"
   },
   {
    "duration": 179,
    "start_time": "2023-03-21T09:37:17.934Z"
   },
   {
    "duration": 188,
    "start_time": "2023-03-21T09:37:43.164Z"
   },
   {
    "duration": 184,
    "start_time": "2023-03-21T09:37:46.491Z"
   },
   {
    "duration": 95,
    "start_time": "2023-03-21T09:37:52.994Z"
   },
   {
    "duration": 288,
    "start_time": "2023-03-21T09:40:03.478Z"
   },
   {
    "duration": 116,
    "start_time": "2023-03-21T09:40:18.886Z"
   },
   {
    "duration": 103,
    "start_time": "2023-03-21T09:40:53.820Z"
   },
   {
    "duration": 118,
    "start_time": "2023-03-21T09:41:45.538Z"
   },
   {
    "duration": 116,
    "start_time": "2023-03-21T09:42:09.013Z"
   },
   {
    "duration": 95,
    "start_time": "2023-03-21T09:43:20.250Z"
   },
   {
    "duration": 105,
    "start_time": "2023-03-21T09:43:37.330Z"
   },
   {
    "duration": 453,
    "start_time": "2023-03-21T09:44:27.312Z"
   },
   {
    "duration": 110,
    "start_time": "2023-03-21T09:44:56.496Z"
   },
   {
    "duration": 115,
    "start_time": "2023-03-21T09:45:00.051Z"
   },
   {
    "duration": 114,
    "start_time": "2023-03-21T09:45:02.951Z"
   },
   {
    "duration": 108,
    "start_time": "2023-03-21T09:45:19.230Z"
   },
   {
    "duration": 109,
    "start_time": "2023-03-21T09:45:28.223Z"
   },
   {
    "duration": 113,
    "start_time": "2023-03-21T09:46:23.881Z"
   },
   {
    "duration": 108,
    "start_time": "2023-03-21T09:47:35.728Z"
   },
   {
    "duration": 100,
    "start_time": "2023-03-21T09:48:14.040Z"
   },
   {
    "duration": 105,
    "start_time": "2023-03-21T09:48:21.522Z"
   },
   {
    "duration": 115,
    "start_time": "2023-03-21T09:49:17.388Z"
   },
   {
    "duration": 77,
    "start_time": "2023-03-21T11:48:20.658Z"
   },
   {
    "duration": 557,
    "start_time": "2023-03-21T11:48:28.611Z"
   },
   {
    "duration": 7922,
    "start_time": "2023-03-21T11:48:29.170Z"
   },
   {
    "duration": 3,
    "start_time": "2023-03-21T11:48:37.094Z"
   },
   {
    "duration": 187,
    "start_time": "2023-03-21T11:48:37.099Z"
   },
   {
    "duration": 42,
    "start_time": "2023-03-21T11:48:37.318Z"
   },
   {
    "duration": 13,
    "start_time": "2023-03-21T11:48:37.362Z"
   },
   {
    "duration": 21,
    "start_time": "2023-03-21T11:48:37.378Z"
   },
   {
    "duration": 47,
    "start_time": "2023-03-21T11:48:37.401Z"
   },
   {
    "duration": 11,
    "start_time": "2023-03-21T11:48:37.451Z"
   },
   {
    "duration": 28,
    "start_time": "2023-03-21T11:48:37.464Z"
   },
   {
    "duration": 53,
    "start_time": "2023-03-21T11:48:37.494Z"
   },
   {
    "duration": 18,
    "start_time": "2023-03-21T11:48:37.549Z"
   },
   {
    "duration": 18,
    "start_time": "2023-03-21T11:49:18.839Z"
   },
   {
    "duration": 215,
    "start_time": "2023-03-21T11:51:10.890Z"
   },
   {
    "duration": 40,
    "start_time": "2023-03-21T11:52:03.498Z"
   },
   {
    "duration": 24,
    "start_time": "2023-03-21T11:52:16.737Z"
   },
   {
    "duration": 27,
    "start_time": "2023-03-21T11:53:12.937Z"
   },
   {
    "duration": 18,
    "start_time": "2023-03-21T11:53:39.538Z"
   },
   {
    "duration": 77,
    "start_time": "2023-03-21T11:55:08.356Z"
   },
   {
    "duration": 25,
    "start_time": "2023-03-21T11:55:23.871Z"
   },
   {
    "duration": 20,
    "start_time": "2023-03-21T11:55:35.556Z"
   },
   {
    "duration": 23,
    "start_time": "2023-03-21T11:55:41.757Z"
   },
   {
    "duration": 86,
    "start_time": "2023-03-21T11:55:59.317Z"
   },
   {
    "duration": 21,
    "start_time": "2023-03-21T11:56:01.996Z"
   },
   {
    "duration": 17,
    "start_time": "2023-03-21T11:56:55.896Z"
   },
   {
    "duration": 82,
    "start_time": "2023-03-21T12:04:31.794Z"
   },
   {
    "duration": 76,
    "start_time": "2023-03-21T12:05:49.422Z"
   },
   {
    "duration": 120,
    "start_time": "2023-03-21T12:06:08.547Z"
   },
   {
    "duration": 19,
    "start_time": "2023-03-21T12:06:56.856Z"
   },
   {
    "duration": 121,
    "start_time": "2023-03-21T12:07:40.251Z"
   },
   {
    "duration": 127,
    "start_time": "2023-03-21T12:07:50.318Z"
   },
   {
    "duration": 25,
    "start_time": "2023-03-21T12:07:55.477Z"
   },
   {
    "duration": 19,
    "start_time": "2023-03-21T12:08:21.440Z"
   },
   {
    "duration": 18,
    "start_time": "2023-03-21T12:08:26.342Z"
   },
   {
    "duration": 80,
    "start_time": "2023-03-21T12:10:43.032Z"
   },
   {
    "duration": 154,
    "start_time": "2023-03-21T12:10:50.520Z"
   },
   {
    "duration": 53,
    "start_time": "2023-03-21T12:11:08.488Z"
   },
   {
    "duration": 253,
    "start_time": "2023-03-21T12:11:51.338Z"
   },
   {
    "duration": 26,
    "start_time": "2023-03-21T12:11:55.026Z"
   },
   {
    "duration": 43,
    "start_time": "2023-03-21T12:12:33.599Z"
   },
   {
    "duration": 24,
    "start_time": "2023-03-21T12:13:12.841Z"
   },
   {
    "duration": 21,
    "start_time": "2023-03-21T12:17:46.034Z"
   },
   {
    "duration": 157,
    "start_time": "2023-03-21T12:18:06.126Z"
   },
   {
    "duration": 41,
    "start_time": "2023-03-21T12:18:14.119Z"
   },
   {
    "duration": 18,
    "start_time": "2023-03-21T12:18:18.556Z"
   },
   {
    "duration": 24,
    "start_time": "2023-03-21T12:18:30.425Z"
   },
   {
    "duration": 13,
    "start_time": "2023-03-21T12:23:47.456Z"
   },
   {
    "duration": 26,
    "start_time": "2023-03-21T12:24:43.241Z"
   },
   {
    "duration": 55,
    "start_time": "2023-03-21T12:25:07.981Z"
   },
   {
    "duration": 19,
    "start_time": "2023-03-21T12:32:25.321Z"
   },
   {
    "duration": 18,
    "start_time": "2023-03-21T12:32:44.056Z"
   },
   {
    "duration": 14,
    "start_time": "2023-03-21T12:35:10.475Z"
   },
   {
    "duration": 103,
    "start_time": "2023-03-21T12:37:32.455Z"
   },
   {
    "duration": 71,
    "start_time": "2023-03-21T12:37:48.724Z"
   },
   {
    "duration": 73,
    "start_time": "2023-03-21T12:38:13.438Z"
   },
   {
    "duration": 30,
    "start_time": "2023-03-21T12:38:21.117Z"
   },
   {
    "duration": 142,
    "start_time": "2023-03-21T13:44:39.624Z"
   },
   {
    "duration": 55,
    "start_time": "2023-03-21T13:45:08.421Z"
   },
   {
    "duration": 153,
    "start_time": "2023-03-21T13:45:47.891Z"
   },
   {
    "duration": 61,
    "start_time": "2023-03-21T13:45:53.483Z"
   },
   {
    "duration": 86,
    "start_time": "2023-03-21T13:46:41.922Z"
   },
   {
    "duration": 46,
    "start_time": "2023-03-21T13:46:47.125Z"
   },
   {
    "duration": 76,
    "start_time": "2023-03-21T13:46:57.398Z"
   },
   {
    "duration": 100,
    "start_time": "2023-03-21T13:48:21.384Z"
   },
   {
    "duration": 110,
    "start_time": "2023-03-21T13:48:23.191Z"
   },
   {
    "duration": 17,
    "start_time": "2023-03-21T13:48:57.550Z"
   },
   {
    "duration": 120,
    "start_time": "2023-03-21T13:49:29.150Z"
   },
   {
    "duration": 53,
    "start_time": "2023-03-21T13:49:37.793Z"
   },
   {
    "duration": 32,
    "start_time": "2023-03-21T13:50:18.887Z"
   },
   {
    "duration": 38,
    "start_time": "2023-03-21T13:50:22.810Z"
   },
   {
    "duration": 52,
    "start_time": "2023-03-21T13:50:28.795Z"
   },
   {
    "duration": 128,
    "start_time": "2023-03-21T13:54:52.488Z"
   },
   {
    "duration": 111,
    "start_time": "2023-03-21T13:55:26.433Z"
   },
   {
    "duration": 15,
    "start_time": "2023-03-21T13:55:37.731Z"
   },
   {
    "duration": 18,
    "start_time": "2023-03-21T13:56:36.031Z"
   },
   {
    "duration": 13,
    "start_time": "2023-03-21T13:57:23.224Z"
   },
   {
    "duration": 16,
    "start_time": "2023-03-21T13:58:13.142Z"
   },
   {
    "duration": 13,
    "start_time": "2023-03-21T13:59:10.127Z"
   },
   {
    "duration": 13,
    "start_time": "2023-03-21T14:00:22.732Z"
   },
   {
    "duration": 39,
    "start_time": "2023-03-21T14:01:20.296Z"
   },
   {
    "duration": 92,
    "start_time": "2023-03-21T14:01:48.157Z"
   },
   {
    "duration": 75,
    "start_time": "2023-03-21T14:01:51.137Z"
   },
   {
    "duration": 13,
    "start_time": "2023-03-21T14:01:54.739Z"
   },
   {
    "duration": 33,
    "start_time": "2023-03-21T14:03:43.675Z"
   },
   {
    "duration": 363,
    "start_time": "2023-03-21T14:04:33.293Z"
   },
   {
    "duration": 249,
    "start_time": "2023-03-21T14:05:01.744Z"
   },
   {
    "duration": 27,
    "start_time": "2023-03-21T14:05:09.639Z"
   },
   {
    "duration": 39,
    "start_time": "2023-03-21T14:08:05.892Z"
   },
   {
    "duration": 36,
    "start_time": "2023-03-21T14:08:11.691Z"
   },
   {
    "duration": 2,
    "start_time": "2023-03-21T14:12:20.343Z"
   },
   {
    "duration": 15,
    "start_time": "2023-03-21T14:12:20.347Z"
   },
   {
    "duration": 27,
    "start_time": "2023-03-21T14:12:20.364Z"
   },
   {
    "duration": 152,
    "start_time": "2023-03-21T14:12:20.392Z"
   },
   {
    "duration": 12,
    "start_time": "2023-03-21T14:12:20.546Z"
   },
   {
    "duration": 17,
    "start_time": "2023-03-21T14:12:20.560Z"
   },
   {
    "duration": 14,
    "start_time": "2023-03-21T14:12:20.579Z"
   },
   {
    "duration": 47,
    "start_time": "2023-03-21T14:12:20.599Z"
   },
   {
    "duration": 10,
    "start_time": "2023-03-21T14:12:20.648Z"
   },
   {
    "duration": 30,
    "start_time": "2023-03-21T14:12:20.659Z"
   },
   {
    "duration": 46,
    "start_time": "2023-03-21T14:12:20.691Z"
   },
   {
    "duration": 16,
    "start_time": "2023-03-21T14:12:20.739Z"
   },
   {
    "duration": 11,
    "start_time": "2023-03-21T14:12:20.757Z"
   },
   {
    "duration": 550,
    "start_time": "2023-03-21T17:30:45.720Z"
   },
   {
    "duration": 9299,
    "start_time": "2023-03-21T17:30:46.273Z"
   },
   {
    "duration": 3,
    "start_time": "2023-03-21T17:30:55.574Z"
   },
   {
    "duration": 249,
    "start_time": "2023-03-21T17:30:55.580Z"
   },
   {
    "duration": 71,
    "start_time": "2023-03-21T17:30:55.832Z"
   },
   {
    "duration": 74,
    "start_time": "2023-03-21T17:30:55.905Z"
   },
   {
    "duration": 75,
    "start_time": "2023-03-21T17:30:55.981Z"
   },
   {
    "duration": 74,
    "start_time": "2023-03-21T17:30:56.058Z"
   },
   {
    "duration": 73,
    "start_time": "2023-03-21T17:30:56.134Z"
   },
   {
    "duration": 116,
    "start_time": "2023-03-21T17:30:56.210Z"
   },
   {
    "duration": 74,
    "start_time": "2023-03-21T17:30:56.327Z"
   },
   {
    "duration": 76,
    "start_time": "2023-03-21T17:30:56.403Z"
   },
   {
    "duration": 72,
    "start_time": "2023-03-21T17:30:56.480Z"
   },
   {
    "duration": 79,
    "start_time": "2023-03-21T17:32:06.487Z"
   },
   {
    "duration": 75,
    "start_time": "2023-03-21T17:32:08.313Z"
   },
   {
    "duration": 457,
    "start_time": "2023-05-01T12:02:56.488Z"
   },
   {
    "duration": 7551,
    "start_time": "2023-05-01T12:02:56.947Z"
   },
   {
    "duration": 3,
    "start_time": "2023-05-01T12:03:04.499Z"
   },
   {
    "duration": 285,
    "start_time": "2023-05-01T12:03:04.503Z"
   },
   {
    "duration": 72,
    "start_time": "2023-05-01T12:03:04.789Z"
   },
   {
    "duration": 71,
    "start_time": "2023-05-01T12:03:04.863Z"
   },
   {
    "duration": 73,
    "start_time": "2023-05-01T12:03:04.935Z"
   },
   {
    "duration": 72,
    "start_time": "2023-05-01T12:03:05.009Z"
   },
   {
    "duration": 77,
    "start_time": "2023-05-01T12:03:05.083Z"
   },
   {
    "duration": 109,
    "start_time": "2023-05-01T12:03:05.162Z"
   },
   {
    "duration": 74,
    "start_time": "2023-05-01T12:03:05.273Z"
   },
   {
    "duration": 78,
    "start_time": "2023-05-01T12:03:05.348Z"
   },
   {
    "duration": 74,
    "start_time": "2023-05-01T12:03:05.428Z"
   }
  ],
  "kernelspec": {
   "display_name": "Python 3 (ipykernel)",
   "language": "python",
   "name": "python3"
  },
  "language_info": {
   "codemirror_mode": {
    "name": "ipython",
    "version": 3
   },
   "file_extension": ".py",
   "mimetype": "text/x-python",
   "name": "python",
   "nbconvert_exporter": "python",
   "pygments_lexer": "ipython3",
   "version": "3.9.5"
  },
  "toc": {
   "base_numbering": 1,
   "nav_menu": {},
   "number_sections": true,
   "sideBar": true,
   "skip_h1_title": true,
   "title_cell": "Table of Contents",
   "title_sidebar": "Contents",
   "toc_cell": false,
   "toc_position": {},
   "toc_section_display": true,
   "toc_window_display": false
  }
 },
 "nbformat": 4,
 "nbformat_minor": 2
}
